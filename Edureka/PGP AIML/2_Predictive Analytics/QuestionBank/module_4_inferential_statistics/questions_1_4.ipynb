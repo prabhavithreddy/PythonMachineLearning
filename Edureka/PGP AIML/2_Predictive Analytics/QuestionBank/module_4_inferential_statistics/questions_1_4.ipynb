{
 "cells": [
  {
   "cell_type": "code",
   "execution_count": 60,
   "id": "3def4d31",
   "metadata": {},
   "outputs": [],
   "source": [
    "import numpy as np\n",
    "import pandas as pd\n",
    "import matplotlib.pyplot as plt\n",
    "import seaborn as sns\n",
    "import warnings\n",
    "warnings.filterwarnings('ignore')\n",
    "from scipy.stats import norm,t\n",
    "import statsmodels.api as sm"
   ]
  },
  {
   "cell_type": "markdown",
   "id": "ba6f380e",
   "metadata": {},
   "source": [
    "### Question 1 - Beginner\n",
    "    Tasks to be performed:\n",
    "    1. Find the population mean and standard deviation for peakrpm column.\n",
    "    2. Draw a sample of 25 from the population of peakrpm column and calculate the sample mean and\n",
    "    standard deviation using Pandas."
   ]
  },
  {
   "cell_type": "code",
   "execution_count": 2,
   "id": "401e386a",
   "metadata": {},
   "outputs": [
    {
     "data": {
      "text/html": [
       "<div>\n",
       "<style scoped>\n",
       "    .dataframe tbody tr th:only-of-type {\n",
       "        vertical-align: middle;\n",
       "    }\n",
       "\n",
       "    .dataframe tbody tr th {\n",
       "        vertical-align: top;\n",
       "    }\n",
       "\n",
       "    .dataframe thead th {\n",
       "        text-align: right;\n",
       "    }\n",
       "</style>\n",
       "<table border=\"1\" class=\"dataframe\">\n",
       "  <thead>\n",
       "    <tr style=\"text-align: right;\">\n",
       "      <th></th>\n",
       "      <th>carname</th>\n",
       "      <th>fueltype</th>\n",
       "      <th>aspiration</th>\n",
       "      <th>doornumber</th>\n",
       "      <th>carbody</th>\n",
       "      <th>drivewheel</th>\n",
       "      <th>enginelocation</th>\n",
       "      <th>wheelbase</th>\n",
       "      <th>carlength</th>\n",
       "      <th>carwidth</th>\n",
       "      <th>...</th>\n",
       "      <th>enginesize</th>\n",
       "      <th>fuelsystem</th>\n",
       "      <th>boreratio</th>\n",
       "      <th>stroke</th>\n",
       "      <th>compressionratio</th>\n",
       "      <th>horsepower</th>\n",
       "      <th>peakrpm</th>\n",
       "      <th>citympg</th>\n",
       "      <th>highwaympg</th>\n",
       "      <th>price</th>\n",
       "    </tr>\n",
       "  </thead>\n",
       "  <tbody>\n",
       "    <tr>\n",
       "      <th>0</th>\n",
       "      <td>alfa-romero giulia</td>\n",
       "      <td>gas</td>\n",
       "      <td>std</td>\n",
       "      <td>two</td>\n",
       "      <td>convertible</td>\n",
       "      <td>rwd</td>\n",
       "      <td>front</td>\n",
       "      <td>88.6</td>\n",
       "      <td>168.8</td>\n",
       "      <td>64.1</td>\n",
       "      <td>...</td>\n",
       "      <td>130.0</td>\n",
       "      <td>mpfi</td>\n",
       "      <td>3.47</td>\n",
       "      <td>2.68</td>\n",
       "      <td>9.0</td>\n",
       "      <td>111</td>\n",
       "      <td>5000</td>\n",
       "      <td>21</td>\n",
       "      <td>27</td>\n",
       "      <td>13495.0</td>\n",
       "    </tr>\n",
       "    <tr>\n",
       "      <th>1</th>\n",
       "      <td>alfa-romero stelvio</td>\n",
       "      <td>gas</td>\n",
       "      <td>std</td>\n",
       "      <td>two</td>\n",
       "      <td>convertible</td>\n",
       "      <td>rwd</td>\n",
       "      <td>front</td>\n",
       "      <td>88.6</td>\n",
       "      <td>168.8</td>\n",
       "      <td>64.1</td>\n",
       "      <td>...</td>\n",
       "      <td>130.0</td>\n",
       "      <td>mpfi</td>\n",
       "      <td>3.47</td>\n",
       "      <td>2.68</td>\n",
       "      <td>9.0</td>\n",
       "      <td>111</td>\n",
       "      <td>5000</td>\n",
       "      <td>21</td>\n",
       "      <td>27</td>\n",
       "      <td>16500.0</td>\n",
       "    </tr>\n",
       "    <tr>\n",
       "      <th>2</th>\n",
       "      <td>alfa-romero Quadrifoglio</td>\n",
       "      <td>gas</td>\n",
       "      <td>std</td>\n",
       "      <td>two</td>\n",
       "      <td>hatchback</td>\n",
       "      <td>rwd</td>\n",
       "      <td>front</td>\n",
       "      <td>94.5</td>\n",
       "      <td>171.2</td>\n",
       "      <td>65.5</td>\n",
       "      <td>...</td>\n",
       "      <td>152.0</td>\n",
       "      <td>mpfi</td>\n",
       "      <td>2.68</td>\n",
       "      <td>3.47</td>\n",
       "      <td>9.0</td>\n",
       "      <td>154</td>\n",
       "      <td>5000</td>\n",
       "      <td>19</td>\n",
       "      <td>26</td>\n",
       "      <td>16500.0</td>\n",
       "    </tr>\n",
       "    <tr>\n",
       "      <th>3</th>\n",
       "      <td>audi 100 ls</td>\n",
       "      <td>gas</td>\n",
       "      <td>std</td>\n",
       "      <td>four</td>\n",
       "      <td>sedan</td>\n",
       "      <td>fwd</td>\n",
       "      <td>front</td>\n",
       "      <td>99.8</td>\n",
       "      <td>176.6</td>\n",
       "      <td>66.2</td>\n",
       "      <td>...</td>\n",
       "      <td>109.0</td>\n",
       "      <td>mpfi</td>\n",
       "      <td>3.19</td>\n",
       "      <td>3.40</td>\n",
       "      <td>10.0</td>\n",
       "      <td>102</td>\n",
       "      <td>5500</td>\n",
       "      <td>24</td>\n",
       "      <td>30</td>\n",
       "      <td>13950.0</td>\n",
       "    </tr>\n",
       "    <tr>\n",
       "      <th>4</th>\n",
       "      <td>audi 100ls</td>\n",
       "      <td>gas</td>\n",
       "      <td>std</td>\n",
       "      <td>four</td>\n",
       "      <td>sedan</td>\n",
       "      <td>4wd</td>\n",
       "      <td>front</td>\n",
       "      <td>99.4</td>\n",
       "      <td>176.6</td>\n",
       "      <td>66.4</td>\n",
       "      <td>...</td>\n",
       "      <td>136.0</td>\n",
       "      <td>mpfi</td>\n",
       "      <td>3.19</td>\n",
       "      <td>3.40</td>\n",
       "      <td>8.0</td>\n",
       "      <td>115</td>\n",
       "      <td>5500</td>\n",
       "      <td>18</td>\n",
       "      <td>22</td>\n",
       "      <td>17450.0</td>\n",
       "    </tr>\n",
       "  </tbody>\n",
       "</table>\n",
       "<p>5 rows × 24 columns</p>\n",
       "</div>"
      ],
      "text/plain": [
       "                    carname fueltype aspiration doornumber      carbody  \\\n",
       "0        alfa-romero giulia      gas        std        two  convertible   \n",
       "1       alfa-romero stelvio      gas        std        two  convertible   \n",
       "2  alfa-romero Quadrifoglio      gas        std        two    hatchback   \n",
       "3               audi 100 ls      gas        std       four        sedan   \n",
       "4                audi 100ls      gas        std       four        sedan   \n",
       "\n",
       "  drivewheel enginelocation  wheelbase  carlength  carwidth  ...  enginesize  \\\n",
       "0        rwd          front       88.6      168.8      64.1  ...       130.0   \n",
       "1        rwd          front       88.6      168.8      64.1  ...       130.0   \n",
       "2        rwd          front       94.5      171.2      65.5  ...       152.0   \n",
       "3        fwd          front       99.8      176.6      66.2  ...       109.0   \n",
       "4        4wd          front       99.4      176.6      66.4  ...       136.0   \n",
       "\n",
       "   fuelsystem boreratio stroke  compressionratio horsepower  peakrpm  citympg  \\\n",
       "0        mpfi      3.47   2.68               9.0        111     5000       21   \n",
       "1        mpfi      3.47   2.68               9.0        111     5000       21   \n",
       "2        mpfi      2.68   3.47               9.0        154     5000       19   \n",
       "3        mpfi      3.19   3.40              10.0        102     5500       24   \n",
       "4        mpfi      3.19   3.40               8.0        115     5500       18   \n",
       "\n",
       "   highwaympg    price  \n",
       "0          27  13495.0  \n",
       "1          27  16500.0  \n",
       "2          26  16500.0  \n",
       "3          30  13950.0  \n",
       "4          22  17450.0  \n",
       "\n",
       "[5 rows x 24 columns]"
      ]
     },
     "execution_count": 2,
     "metadata": {},
     "output_type": "execute_result"
    }
   ],
   "source": [
    "df = pd.read_csv('Cars.csv')\n",
    "df.head()"
   ]
  },
  {
   "cell_type": "code",
   "execution_count": 19,
   "id": "2f8eebf1",
   "metadata": {},
   "outputs": [
    {
     "data": {
      "text/plain": [
       "mean    5125.121951\n",
       "std      476.985643\n",
       "Name: peakrpm, dtype: float64"
      ]
     },
     "execution_count": 19,
     "metadata": {},
     "output_type": "execute_result"
    }
   ],
   "source": [
    "df['peakrpm'].agg(['mean', 'std'])"
   ]
  },
  {
   "cell_type": "code",
   "execution_count": 23,
   "id": "5c5e006c",
   "metadata": {},
   "outputs": [
    {
     "data": {
      "text/html": [
       "<div>\n",
       "<style scoped>\n",
       "    .dataframe tbody tr th:only-of-type {\n",
       "        vertical-align: middle;\n",
       "    }\n",
       "\n",
       "    .dataframe tbody tr th {\n",
       "        vertical-align: top;\n",
       "    }\n",
       "\n",
       "    .dataframe thead th {\n",
       "        text-align: right;\n",
       "    }\n",
       "</style>\n",
       "<table border=\"1\" class=\"dataframe\">\n",
       "  <thead>\n",
       "    <tr style=\"text-align: right;\">\n",
       "      <th></th>\n",
       "      <th>peakrpm</th>\n",
       "    </tr>\n",
       "  </thead>\n",
       "  <tbody>\n",
       "    <tr>\n",
       "      <th>mean</th>\n",
       "      <td>5146.000000</td>\n",
       "    </tr>\n",
       "    <tr>\n",
       "      <th>std</th>\n",
       "      <td>549.037036</td>\n",
       "    </tr>\n",
       "  </tbody>\n",
       "</table>\n",
       "</div>"
      ],
      "text/plain": [
       "          peakrpm\n",
       "mean  5146.000000\n",
       "std    549.037036"
      ]
     },
     "execution_count": 23,
     "metadata": {},
     "output_type": "execute_result"
    }
   ],
   "source": [
    "sample_peakrpm = df[['peakrpm']].sample(25)\n",
    "sample_peakrpm.agg(['mean', 'std'])"
   ]
  },
  {
   "cell_type": "markdown",
   "id": "cbc289a4",
   "metadata": {},
   "source": [
    "### Question 2 - Beginner\n",
    "    Tasks to be performed:\n",
    "    1. Calculate the margin of error for 95% confidence level for peakrpm column using the standard deviation\n",
    "    of the population.\n",
    "    2. Calculate the confidence interval for the same column."
   ]
  },
  {
   "cell_type": "code",
   "execution_count": 28,
   "id": "f6a5628e",
   "metadata": {},
   "outputs": [
    {
     "name": "stdout",
     "output_type": "stream",
     "text": [
      "sd: 476.98564305694646\n",
      "Margin of Error: 156.91431299719974\n"
     ]
    }
   ],
   "source": [
    "from scipy.stats import norm\n",
    "peakrpm_std = df['peakrpm'].std()\n",
    "print(f\"sd: {peakrpm_std}\")\n",
    "me = norm.ppf(.95) * (peakrpm_std/np.sqrt(sample_peakrpm.shape[0]))\n",
    "print(f\"Margin of Error: {me}\")"
   ]
  },
  {
   "cell_type": "code",
   "execution_count": 29,
   "id": "7f406d5e",
   "metadata": {},
   "outputs": [
    {
     "name": "stdout",
     "output_type": "stream",
     "text": [
      "mean: 5125.121951219512\n"
     ]
    }
   ],
   "source": [
    "mean = df['peakrpm'].mean()\n",
    "print(f\"mean: {mean}\")"
   ]
  },
  {
   "cell_type": "code",
   "execution_count": 30,
   "id": "1b831730",
   "metadata": {},
   "outputs": [
    {
     "name": "stdout",
     "output_type": "stream",
     "text": [
      "CI: [4968.207638222312,5282.036264216712]\n"
     ]
    }
   ],
   "source": [
    "print(f\"CI: [{mean-me},{mean+me}]\")"
   ]
  },
  {
   "cell_type": "markdown",
   "id": "63f02da3",
   "metadata": {},
   "source": [
    "### Question 3 - Beginner\n",
    "    Tasks to be performed:\n",
    "    1. Calculate the margin of error for 95% confidence level for peakrpm column using the standard deviation\n",
    "    of the sample.\n",
    "    2. Calculate the confidence interval for the same column"
   ]
  },
  {
   "cell_type": "code",
   "execution_count": 49,
   "id": "5a71ad34",
   "metadata": {},
   "outputs": [
    {
     "name": "stdout",
     "output_type": "stream",
     "text": [
      "std: 490.6458328910308\n"
     ]
    }
   ],
   "source": [
    "sample = df.sample(25, random_state=1)\n",
    "peakrpm_std = sample['peakrpm'].std()\n",
    "print(f'std: {peakrpm_std}')"
   ]
  },
  {
   "cell_type": "code",
   "execution_count": 54,
   "id": "aed1610c",
   "metadata": {},
   "outputs": [
    {
     "name": "stdout",
     "output_type": "stream",
     "text": [
      "me: 167.88743261510004\n"
     ]
    }
   ],
   "source": [
    "me = t.ppf(q=.95,df=sample.shape[0]-1) * (peakrpm_std/np.sqrt(sample.shape[0]))\n",
    "print(f'me: {me}')"
   ]
  },
  {
   "cell_type": "code",
   "execution_count": 55,
   "id": "37c8f042",
   "metadata": {},
   "outputs": [
    {
     "name": "stdout",
     "output_type": "stream",
     "text": [
      "CI: [5046.1125673849,5381.8874326151]\n"
     ]
    }
   ],
   "source": [
    "mean = sample['peakrpm'].mean()\n",
    "print(f\"CI: [{mean-me},{mean+me}]\")"
   ]
  },
  {
   "cell_type": "markdown",
   "id": "92b513f0",
   "metadata": {},
   "source": [
    "###    Question 4 - Beginner\n",
    "    Create two lists having 7 elements that are positive integer values a=[201,873,667,789,876,567,765] and b=\n",
    "    [678,543,356,123,345,987,876]. Check if there exists a relationship between the means of the two lists.\n",
    "    Tasks to be performed:\n",
    "    1. Determine the Hypotheses\n",
    "    2. Perform a Statistical Test for Population Means\n",
    "    3. Find P-value and conclude the Hypotheses"
   ]
  },
  {
   "cell_type": "code",
   "execution_count": 58,
   "id": "4d13bdbc",
   "metadata": {},
   "outputs": [],
   "source": [
    "a=np.array([201,873,667,789,876,567,765])\n",
    "b=np.array([678,543,356,123,345,987,876])"
   ]
  },
  {
   "cell_type": "code",
   "execution_count": 59,
   "id": "245c950a",
   "metadata": {},
   "outputs": [
    {
     "name": "stdout",
     "output_type": "stream",
     "text": [
      "Mean[a]: 676.8571428571429\n",
      "Mean[b]: 558.2857142857143\n"
     ]
    }
   ],
   "source": [
    "print(f\"Mean[a]: {np.mean(a)}\")\n",
    "print(f\"Mean[b]: {np.mean(b)}\")"
   ]
  },
  {
   "cell_type": "code",
   "execution_count": 61,
   "id": "c6dee4dd",
   "metadata": {},
   "outputs": [
    {
     "name": "stdout",
     "output_type": "stream",
     "text": [
      "0.43673938240432864\n",
      "There is no relationship(independent)\n"
     ]
    }
   ],
   "source": [
    "zresult = sm.stats.ttest_ind(a,b,alternative='two-sided')\n",
    "pval = zresult[1]\n",
    "print(pval)\n",
    "\n",
    "\n",
    "if pval<0.05:\n",
    "    print('There exists a relationship')\n",
    "else:\n",
    "    print('There is no relationship(independent)')"
   ]
  },
  {
   "cell_type": "code",
   "execution_count": null,
   "id": "b5ab7bf2",
   "metadata": {},
   "outputs": [],
   "source": []
  }
 ],
 "metadata": {
  "kernelspec": {
   "display_name": "Python 3",
   "language": "python",
   "name": "python3"
  },
  "language_info": {
   "codemirror_mode": {
    "name": "ipython",
    "version": 3
   },
   "file_extension": ".py",
   "mimetype": "text/x-python",
   "name": "python",
   "nbconvert_exporter": "python",
   "pygments_lexer": "ipython3",
   "version": "3.8.8"
  }
 },
 "nbformat": 4,
 "nbformat_minor": 5
}
