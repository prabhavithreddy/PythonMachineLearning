{
 "cells": [
  {
   "cell_type": "code",
   "execution_count": 2,
   "id": "10c6fcf3",
   "metadata": {},
   "outputs": [],
   "source": [
    "import os\n",
    "import shutil\n",
    "from os import listdir\n",
    "\n",
    "import cv2\n",
    "\n",
    "import pandas as pd\n",
    "import numpy as np\n",
    "\n",
    "from sklearn.preprocessing import LabelEncoder, MinMaxScaler\n",
    "from sklearn.model_selection import train_test_split\n",
    "\n",
    "import tensorflow as tf\n",
    "from tensorflow.keras.layers import Dropout, LSTM, Bidirectional, Dense, Activation\n",
    "from tensorflow import keras\n",
    "from keras import backend\n",
    "from tensorflow.keras import layers\n",
    "\n",
    "import matplotlib.pyplot as plt\n",
    "import seaborn as sns\n",
    "\n",
    "import warnings\n",
    "warnings.filterwarnings(action='ignore')"
   ]
  },
  {
   "cell_type": "markdown",
   "id": "a979dcef",
   "metadata": {},
   "source": [
    "### 1. Read the parase.txt file containing the image id and the respective word for that image and take the first 10000 instances for training and testing of the model"
   ]
  },
  {
   "cell_type": "code",
   "execution_count": 3,
   "id": "42d7d9ee",
   "metadata": {},
   "outputs": [],
   "source": [
    "total_number_of_images = 20000"
   ]
  },
  {
   "cell_type": "code",
   "execution_count": 4,
   "id": "91bd53ff",
   "metadata": {},
   "outputs": [],
   "source": [
    "if not os.path.exists('images.csv'):\n",
    "    counter = 0\n",
    "    image_df = pd.DataFrame()\n",
    "    with open('parser.txt', mode='r') as f:\n",
    "        while counter < total_number_of_images:\n",
    "            image_df = pd.concat([image_df, pd.DataFrame(f.readline().split()).T], axis=0)\n",
    "            counter+=1\n",
    "    image_df.to_csv('images.csv', index=False)\n",
    "else:\n",
    "    image_df = pd.read_csv('images.csv', index_col=0)"
   ]
  },
  {
   "cell_type": "code",
   "execution_count": 5,
   "id": "c913269d",
   "metadata": {},
   "outputs": [
    {
     "name": "stdout",
     "output_type": "stream",
     "text": [
      "Shape of the image dataframe: (20000, 2)\n"
     ]
    }
   ],
   "source": [
    "print(f\"Shape of the image dataframe: {image_df.shape}\")"
   ]
  },
  {
   "cell_type": "code",
   "execution_count": 6,
   "id": "e8a13b97",
   "metadata": {},
   "outputs": [],
   "source": [
    "df = image_df.copy()"
   ]
  },
  {
   "cell_type": "code",
   "execution_count": 7,
   "id": "1b29e43c",
   "metadata": {},
   "outputs": [
    {
     "data": {
      "text/html": [
       "<div>\n",
       "<style scoped>\n",
       "    .dataframe tbody tr th:only-of-type {\n",
       "        vertical-align: middle;\n",
       "    }\n",
       "\n",
       "    .dataframe tbody tr th {\n",
       "        vertical-align: top;\n",
       "    }\n",
       "\n",
       "    .dataframe thead th {\n",
       "        text-align: right;\n",
       "    }\n",
       "</style>\n",
       "<table border=\"1\" class=\"dataframe\">\n",
       "  <thead>\n",
       "    <tr style=\"text-align: right;\">\n",
       "      <th></th>\n",
       "      <th>Status</th>\n",
       "      <th>Word</th>\n",
       "    </tr>\n",
       "    <tr>\n",
       "      <th>0</th>\n",
       "      <th></th>\n",
       "      <th></th>\n",
       "    </tr>\n",
       "  </thead>\n",
       "  <tbody>\n",
       "    <tr>\n",
       "      <th>a01-000u-00-00</th>\n",
       "      <td>ok</td>\n",
       "      <td>A</td>\n",
       "    </tr>\n",
       "    <tr>\n",
       "      <th>a01-000u-00-01</th>\n",
       "      <td>ok</td>\n",
       "      <td>MOVE</td>\n",
       "    </tr>\n",
       "    <tr>\n",
       "      <th>a01-000u-00-02</th>\n",
       "      <td>ok</td>\n",
       "      <td>to</td>\n",
       "    </tr>\n",
       "    <tr>\n",
       "      <th>a01-000u-00-03</th>\n",
       "      <td>ok</td>\n",
       "      <td>stop</td>\n",
       "    </tr>\n",
       "    <tr>\n",
       "      <th>a01-000u-00-04</th>\n",
       "      <td>ok</td>\n",
       "      <td>Mr.</td>\n",
       "    </tr>\n",
       "  </tbody>\n",
       "</table>\n",
       "</div>"
      ],
      "text/plain": [
       "               Status  Word\n",
       "0                          \n",
       "a01-000u-00-00     ok     A\n",
       "a01-000u-00-01     ok  MOVE\n",
       "a01-000u-00-02     ok    to\n",
       "a01-000u-00-03     ok  stop\n",
       "a01-000u-00-04     ok   Mr."
      ]
     },
     "execution_count": 7,
     "metadata": {},
     "output_type": "execute_result"
    }
   ],
   "source": [
    "df.head()"
   ]
  },
  {
   "cell_type": "markdown",
   "id": "5b2e9ac5",
   "metadata": {},
   "source": [
    "### EDA\n",
    "1. Check for Null, NA or error"
   ]
  },
  {
   "cell_type": "code",
   "execution_count": 8,
   "id": "96e719be",
   "metadata": {},
   "outputs": [
    {
     "data": {
      "text/plain": [
       "ok     17786\n",
       "err     2214\n",
       "Name: Status, dtype: int64"
      ]
     },
     "execution_count": 8,
     "metadata": {},
     "output_type": "execute_result"
    }
   ],
   "source": [
    "# Checkign the status counts\n",
    "df['Status'].value_counts()"
   ]
  },
  {
   "cell_type": "code",
   "execution_count": 9,
   "id": "f4ebf006",
   "metadata": {
    "scrolled": true
   },
   "outputs": [
    {
     "name": "stdout",
     "output_type": "stream",
     "text": [
      "Shape of the datafram after dropping error: (17786, 2)\n"
     ]
    }
   ],
   "source": [
    "# Remove the images with err status\n",
    "\n",
    "df = df.drop(df[df['Status'] == 'err'].index, axis=0)\n",
    "print(f'Shape of the datafram after dropping error: {df.shape}')"
   ]
  },
  {
   "cell_type": "code",
   "execution_count": 10,
   "id": "2ddf9c76",
   "metadata": {},
   "outputs": [
    {
     "name": "stdout",
     "output_type": "stream",
     "text": [
      "Shape of the datafram after Sampling: (12000, 2)\n"
     ]
    }
   ],
   "source": [
    "# Picking up 12k images for training, validation and testing\n",
    "df = df.sample(12000)\n",
    "print(f'Shape of the datafram after Sampling: {df.shape}')"
   ]
  },
  {
   "cell_type": "code",
   "execution_count": 11,
   "id": "2c159545",
   "metadata": {},
   "outputs": [
    {
     "name": "stdout",
     "output_type": "stream",
     "text": [
      "Are there any null words: False\n",
      "Are there any empty words: Status    False\n",
      "Word      False\n",
      "dtype: bool\n"
     ]
    }
   ],
   "source": [
    "# Check for null, or empty characters\n",
    "result = df['Word'].isna().any()\n",
    "print(f'Are there any null words: {result}')\n",
    "\n",
    "result = df[df['Word'].str.len() == 0].any()\n",
    "print(f'Are there any empty words: {result}')"
   ]
  },
  {
   "cell_type": "code",
   "execution_count": 12,
   "id": "6c444e88",
   "metadata": {},
   "outputs": [
    {
     "data": {
      "text/html": [
       "<div>\n",
       "<style scoped>\n",
       "    .dataframe tbody tr th:only-of-type {\n",
       "        vertical-align: middle;\n",
       "    }\n",
       "\n",
       "    .dataframe tbody tr th {\n",
       "        vertical-align: top;\n",
       "    }\n",
       "\n",
       "    .dataframe thead th {\n",
       "        text-align: right;\n",
       "    }\n",
       "</style>\n",
       "<table border=\"1\" class=\"dataframe\">\n",
       "  <thead>\n",
       "    <tr style=\"text-align: right;\">\n",
       "      <th></th>\n",
       "      <th>Word</th>\n",
       "    </tr>\n",
       "    <tr>\n",
       "      <th>0</th>\n",
       "      <th></th>\n",
       "    </tr>\n",
       "  </thead>\n",
       "  <tbody>\n",
       "    <tr>\n",
       "      <th>a01-132-06-01</th>\n",
       "      <td>-</td>\n",
       "    </tr>\n",
       "    <tr>\n",
       "      <th>a05-017-03-00</th>\n",
       "      <td>While</td>\n",
       "    </tr>\n",
       "    <tr>\n",
       "      <th>a01-030x-06-00</th>\n",
       "      <td>Labour's</td>\n",
       "    </tr>\n",
       "    <tr>\n",
       "      <th>a02-086-03-01</th>\n",
       "      <td>Roy</td>\n",
       "    </tr>\n",
       "    <tr>\n",
       "      <th>a05-099-02-01</th>\n",
       "      <td>Mr.</td>\n",
       "    </tr>\n",
       "  </tbody>\n",
       "</table>\n",
       "</div>"
      ],
      "text/plain": [
       "                    Word\n",
       "0                       \n",
       "a01-132-06-01          -\n",
       "a05-017-03-00      While\n",
       "a01-030x-06-00  Labour's\n",
       "a02-086-03-01        Roy\n",
       "a05-099-02-01        Mr."
      ]
     },
     "execution_count": 12,
     "metadata": {},
     "output_type": "execute_result"
    }
   ],
   "source": [
    "# Drop of Status columns\n",
    "if 'Status' in df.columns:\n",
    "    df = df.drop(columns=['Status'], axis=1)\n",
    "df.head()"
   ]
  },
  {
   "cell_type": "code",
   "execution_count": 13,
   "id": "a3103e4e",
   "metadata": {},
   "outputs": [
    {
     "data": {
      "text/html": [
       "<div>\n",
       "<style scoped>\n",
       "    .dataframe tbody tr th:only-of-type {\n",
       "        vertical-align: middle;\n",
       "    }\n",
       "\n",
       "    .dataframe tbody tr th {\n",
       "        vertical-align: top;\n",
       "    }\n",
       "\n",
       "    .dataframe thead th {\n",
       "        text-align: right;\n",
       "    }\n",
       "</style>\n",
       "<table border=\"1\" class=\"dataframe\">\n",
       "  <thead>\n",
       "    <tr style=\"text-align: right;\">\n",
       "      <th></th>\n",
       "      <th>Word</th>\n",
       "      <th>Word_Length</th>\n",
       "    </tr>\n",
       "    <tr>\n",
       "      <th>0</th>\n",
       "      <th></th>\n",
       "      <th></th>\n",
       "    </tr>\n",
       "  </thead>\n",
       "  <tbody>\n",
       "    <tr>\n",
       "      <th>a01-132-06-01</th>\n",
       "      <td>-</td>\n",
       "      <td>1</td>\n",
       "    </tr>\n",
       "    <tr>\n",
       "      <th>a05-017-03-00</th>\n",
       "      <td>While</td>\n",
       "      <td>5</td>\n",
       "    </tr>\n",
       "    <tr>\n",
       "      <th>a01-030x-06-00</th>\n",
       "      <td>Labour's</td>\n",
       "      <td>8</td>\n",
       "    </tr>\n",
       "    <tr>\n",
       "      <th>a02-086-03-01</th>\n",
       "      <td>Roy</td>\n",
       "      <td>3</td>\n",
       "    </tr>\n",
       "    <tr>\n",
       "      <th>a05-099-02-01</th>\n",
       "      <td>Mr.</td>\n",
       "      <td>3</td>\n",
       "    </tr>\n",
       "  </tbody>\n",
       "</table>\n",
       "</div>"
      ],
      "text/plain": [
       "                    Word  Word_Length\n",
       "0                                    \n",
       "a01-132-06-01          -            1\n",
       "a05-017-03-00      While            5\n",
       "a01-030x-06-00  Labour's            8\n",
       "a02-086-03-01        Roy            3\n",
       "a05-099-02-01        Mr.            3"
      ]
     },
     "execution_count": 13,
     "metadata": {},
     "output_type": "execute_result"
    }
   ],
   "source": [
    "# Get the length of the word\n",
    "df['Word'] = df['Word'].str.strip()\n",
    "df['Word_Length'] = df['Word'].str.len()\n",
    "df.head()"
   ]
  },
  {
   "cell_type": "code",
   "execution_count": 14,
   "id": "053c4d66",
   "metadata": {},
   "outputs": [
    {
     "name": "stdout",
     "output_type": "stream",
     "text": [
      "This path already has all the files\n"
     ]
    }
   ],
   "source": [
    "# copy the images to a particular folder if it is empty\n",
    "\n",
    "source_path = 'words\\words'\n",
    "dest_path = 'dataset'\n",
    "\n",
    "if len(listdir(dest_path)) != total_number_of_images:\n",
    "\n",
    "    for image_id in df.index.values:\n",
    "        metadata = image_id.split('-')\n",
    "        folder = metadata[0]\n",
    "        sub_folder = folder+'-'+metadata[1]\n",
    "        file_name = image_id+'.png'\n",
    "        full_path = os.path.join(source_path, folder, sub_folder, file_name)\n",
    "        shutil.copyfile(full_path, os.path.join(dest_path, file_name))\n",
    "else:\n",
    "    print('This path already has all the files')"
   ]
  },
  {
   "cell_type": "markdown",
   "id": "c2bd72c8",
   "metadata": {},
   "source": [
    "### 2. Images can be of different shape thus resize all your images to have same shape (for example = (128, 32))"
   ]
  },
  {
   "cell_type": "code",
   "execution_count": 15,
   "id": "04842583",
   "metadata": {},
   "outputs": [
    {
     "data": {
      "text/html": [
       "<div>\n",
       "<style scoped>\n",
       "    .dataframe tbody tr th:only-of-type {\n",
       "        vertical-align: middle;\n",
       "    }\n",
       "\n",
       "    .dataframe tbody tr th {\n",
       "        vertical-align: top;\n",
       "    }\n",
       "\n",
       "    .dataframe thead th {\n",
       "        text-align: right;\n",
       "    }\n",
       "</style>\n",
       "<table border=\"1\" class=\"dataframe\">\n",
       "  <thead>\n",
       "    <tr style=\"text-align: right;\">\n",
       "      <th></th>\n",
       "      <th>Word</th>\n",
       "      <th>Word_Length</th>\n",
       "      <th>Image_Path</th>\n",
       "    </tr>\n",
       "    <tr>\n",
       "      <th>0</th>\n",
       "      <th></th>\n",
       "      <th></th>\n",
       "      <th></th>\n",
       "    </tr>\n",
       "  </thead>\n",
       "  <tbody>\n",
       "    <tr>\n",
       "      <th>a01-132-06-01</th>\n",
       "      <td>-</td>\n",
       "      <td>1</td>\n",
       "      <td>dataset\\a01-132-06-01.png</td>\n",
       "    </tr>\n",
       "    <tr>\n",
       "      <th>a05-017-03-00</th>\n",
       "      <td>While</td>\n",
       "      <td>5</td>\n",
       "      <td>dataset\\a05-017-03-00.png</td>\n",
       "    </tr>\n",
       "    <tr>\n",
       "      <th>a01-030x-06-00</th>\n",
       "      <td>Labour's</td>\n",
       "      <td>8</td>\n",
       "      <td>dataset\\a01-030x-06-00.png</td>\n",
       "    </tr>\n",
       "    <tr>\n",
       "      <th>a02-086-03-01</th>\n",
       "      <td>Roy</td>\n",
       "      <td>3</td>\n",
       "      <td>dataset\\a02-086-03-01.png</td>\n",
       "    </tr>\n",
       "    <tr>\n",
       "      <th>a05-099-02-01</th>\n",
       "      <td>Mr.</td>\n",
       "      <td>3</td>\n",
       "      <td>dataset\\a05-099-02-01.png</td>\n",
       "    </tr>\n",
       "  </tbody>\n",
       "</table>\n",
       "</div>"
      ],
      "text/plain": [
       "                    Word  Word_Length                  Image_Path\n",
       "0                                                                \n",
       "a01-132-06-01          -            1   dataset\\a01-132-06-01.png\n",
       "a05-017-03-00      While            5   dataset\\a05-017-03-00.png\n",
       "a01-030x-06-00  Labour's            8  dataset\\a01-030x-06-00.png\n",
       "a02-086-03-01        Roy            3   dataset\\a02-086-03-01.png\n",
       "a05-099-02-01        Mr.            3   dataset\\a05-099-02-01.png"
      ]
     },
     "execution_count": 15,
     "metadata": {},
     "output_type": "execute_result"
    }
   ],
   "source": [
    "df['Image_Path'] = dest_path+'\\\\'+ df.index+'.png'\n",
    "df.head()"
   ]
  },
  {
   "cell_type": "code",
   "execution_count": 16,
   "id": "d8aeef1b",
   "metadata": {},
   "outputs": [],
   "source": [
    "# Load the images to a dataset"
   ]
  },
  {
   "cell_type": "code",
   "execution_count": 17,
   "id": "8c9c4872",
   "metadata": {},
   "outputs": [
    {
     "data": {
      "text/html": [
       "<div>\n",
       "<style scoped>\n",
       "    .dataframe tbody tr th:only-of-type {\n",
       "        vertical-align: middle;\n",
       "    }\n",
       "\n",
       "    .dataframe tbody tr th {\n",
       "        vertical-align: top;\n",
       "    }\n",
       "\n",
       "    .dataframe thead th {\n",
       "        text-align: right;\n",
       "    }\n",
       "</style>\n",
       "<table border=\"1\" class=\"dataframe\">\n",
       "  <thead>\n",
       "    <tr style=\"text-align: right;\">\n",
       "      <th></th>\n",
       "      <th>Word</th>\n",
       "      <th>Word_Length</th>\n",
       "      <th>Image_Path</th>\n",
       "      <th>Image</th>\n",
       "    </tr>\n",
       "    <tr>\n",
       "      <th>0</th>\n",
       "      <th></th>\n",
       "      <th></th>\n",
       "      <th></th>\n",
       "      <th></th>\n",
       "    </tr>\n",
       "  </thead>\n",
       "  <tbody>\n",
       "    <tr>\n",
       "      <th>a01-132-06-01</th>\n",
       "      <td>-</td>\n",
       "      <td>1</td>\n",
       "      <td>dataset\\a01-132-06-01.png</td>\n",
       "      <td>None</td>\n",
       "    </tr>\n",
       "    <tr>\n",
       "      <th>a05-017-03-00</th>\n",
       "      <td>While</td>\n",
       "      <td>5</td>\n",
       "      <td>dataset\\a05-017-03-00.png</td>\n",
       "      <td>None</td>\n",
       "    </tr>\n",
       "    <tr>\n",
       "      <th>a01-030x-06-00</th>\n",
       "      <td>Labour's</td>\n",
       "      <td>8</td>\n",
       "      <td>dataset\\a01-030x-06-00.png</td>\n",
       "      <td>None</td>\n",
       "    </tr>\n",
       "    <tr>\n",
       "      <th>a02-086-03-01</th>\n",
       "      <td>Roy</td>\n",
       "      <td>3</td>\n",
       "      <td>dataset\\a02-086-03-01.png</td>\n",
       "      <td>None</td>\n",
       "    </tr>\n",
       "    <tr>\n",
       "      <th>a05-099-02-01</th>\n",
       "      <td>Mr.</td>\n",
       "      <td>3</td>\n",
       "      <td>dataset\\a05-099-02-01.png</td>\n",
       "      <td>None</td>\n",
       "    </tr>\n",
       "  </tbody>\n",
       "</table>\n",
       "</div>"
      ],
      "text/plain": [
       "                    Word  Word_Length                  Image_Path Image\n",
       "0                                                                      \n",
       "a01-132-06-01          -            1   dataset\\a01-132-06-01.png  None\n",
       "a05-017-03-00      While            5   dataset\\a05-017-03-00.png  None\n",
       "a01-030x-06-00  Labour's            8  dataset\\a01-030x-06-00.png  None\n",
       "a02-086-03-01        Roy            3   dataset\\a02-086-03-01.png  None\n",
       "a05-099-02-01        Mr.            3   dataset\\a05-099-02-01.png  None"
      ]
     },
     "execution_count": 17,
     "metadata": {},
     "output_type": "execute_result"
    }
   ],
   "source": [
    "df['Image'] = None\n",
    "df.head()"
   ]
  },
  {
   "cell_type": "code",
   "execution_count": 18,
   "id": "f12d2e9b",
   "metadata": {},
   "outputs": [
    {
     "name": "stdout",
     "output_type": "stream",
     "text": [
      "Failed to load Imagedataset\\a01-117-05-02.png\n"
     ]
    }
   ],
   "source": [
    "Images = []\n",
    "image_shape = (128, 32)\n",
    "for index in df.index:\n",
    "    image_path = df.at[index, 'Image_Path']\n",
    "    image = cv2.imread(image_path, cv2.IMREAD_GRAYSCALE)\n",
    "    if image is not None:\n",
    "        try:\n",
    "            result = cv2.resize(image, image_shape)\n",
    "            result = cv2.rotate(result, cv2.ROTATE_90_CLOCKWISE)\n",
    "        except Exception as e:\n",
    "            result = np.zeros(image_shape)\n",
    "    else:\n",
    "        result = np.zeros(image_shape)\n",
    "        print(f'Failed to load Image{image_path}')\n",
    "    Images.append(result)\n",
    "    df.at[index, 'Image'] = result"
   ]
  },
  {
   "cell_type": "code",
   "execution_count": 19,
   "id": "cfcf4d79",
   "metadata": {},
   "outputs": [
    {
     "name": "stdout",
     "output_type": "stream",
     "text": [
      "Shape of Images: (12000, 128, 32)\n"
     ]
    }
   ],
   "source": [
    "Images = np.array(Images)\n",
    "print(f'Shape of Images: {Images.shape}')"
   ]
  },
  {
   "cell_type": "code",
   "execution_count": 20,
   "id": "6105b551",
   "metadata": {},
   "outputs": [],
   "source": [
    "def prod(val) : \n",
    "    res = 1 \n",
    "    for ele in val: \n",
    "        res *= ele \n",
    "    return res "
   ]
  },
  {
   "cell_type": "code",
   "execution_count": 21,
   "id": "49481164",
   "metadata": {},
   "outputs": [
    {
     "data": {
      "text/plain": [
       "4096"
      ]
     },
     "execution_count": 21,
     "metadata": {},
     "output_type": "execute_result"
    }
   ],
   "source": [
    "df['Image'].apply(lambda x: prod(x.shape)).min()"
   ]
  },
  {
   "cell_type": "code",
   "execution_count": 42,
   "id": "2ad3f116",
   "metadata": {},
   "outputs": [
    {
     "data": {
      "text/html": [
       "<div>\n",
       "<style scoped>\n",
       "    .dataframe tbody tr th:only-of-type {\n",
       "        vertical-align: middle;\n",
       "    }\n",
       "\n",
       "    .dataframe tbody tr th {\n",
       "        vertical-align: top;\n",
       "    }\n",
       "\n",
       "    .dataframe thead th {\n",
       "        text-align: right;\n",
       "    }\n",
       "</style>\n",
       "<table border=\"1\" class=\"dataframe\">\n",
       "  <thead>\n",
       "    <tr style=\"text-align: right;\">\n",
       "      <th></th>\n",
       "      <th>Word</th>\n",
       "      <th>Word_Length</th>\n",
       "      <th>Image_Path</th>\n",
       "      <th>Image</th>\n",
       "      <th>Image_Scaled</th>\n",
       "      <th>target</th>\n",
       "    </tr>\n",
       "  </thead>\n",
       "  <tbody>\n",
       "    <tr>\n",
       "      <th>0</th>\n",
       "      <td>-</td>\n",
       "      <td>1</td>\n",
       "      <td>dataset\\a01-132-06-01.png</td>\n",
       "      <td>[[244, 244, 233, 219, 204, 189, 173, 156, 139,...</td>\n",
       "      <td>[[0.9568627450980393, 0.9568627450980393, 0.91...</td>\n",
       "      <td>[8, -1, -1, -1, -1, -1, -1, -1, -1, -1, -1, -1...</td>\n",
       "    </tr>\n",
       "    <tr>\n",
       "      <th>1</th>\n",
       "      <td>While</td>\n",
       "      <td>5</td>\n",
       "      <td>dataset\\a05-017-03-00.png</td>\n",
       "      <td>[[255, 255, 250, 247, 246, 244, 248, 250, 247,...</td>\n",
       "      <td>[[1.0, 1.0, 0.9803921568627451, 0.968627450980...</td>\n",
       "      <td>[46, 57, 58, 61, 54, -1, -1, -1, -1, -1, -1, -...</td>\n",
       "    </tr>\n",
       "    <tr>\n",
       "      <th>2</th>\n",
       "      <td>Labour's</td>\n",
       "      <td>8</td>\n",
       "      <td>dataset\\a01-030x-06-00.png</td>\n",
       "      <td>[[244, 240, 211, 61, 49, 86, 163, 217, 237, 24...</td>\n",
       "      <td>[[0.9568627450980393, 0.9411764705882353, 0.82...</td>\n",
       "      <td>[35, 50, 51, 64, 70, 67, 3, 68, -1, -1, -1, -1...</td>\n",
       "    </tr>\n",
       "    <tr>\n",
       "      <th>3</th>\n",
       "      <td>Roy</td>\n",
       "      <td>3</td>\n",
       "      <td>dataset\\a02-086-03-01.png</td>\n",
       "      <td>[[255, 255, 255, 255, 255, 255, 255, 255, 255,...</td>\n",
       "      <td>[[1.0, 1.0, 1.0, 1.0, 1.0, 1.0, 1.0, 1.0, 1.0,...</td>\n",
       "      <td>[41, 64, 74, -1, -1, -1, -1, -1, -1, -1, -1, -...</td>\n",
       "    </tr>\n",
       "    <tr>\n",
       "      <th>4</th>\n",
       "      <td>Mr.</td>\n",
       "      <td>3</td>\n",
       "      <td>dataset\\a05-099-02-01.png</td>\n",
       "      <td>[[242, 240, 238, 232, 229, 235, 240, 238, 237,...</td>\n",
       "      <td>[[0.9490196078431372, 0.9411764705882353, 0.93...</td>\n",
       "      <td>[36, 67, 9, -1, -1, -1, -1, -1, -1, -1, -1, -1...</td>\n",
       "    </tr>\n",
       "  </tbody>\n",
       "</table>\n",
       "</div>"
      ],
      "text/plain": [
       "       Word  Word_Length                  Image_Path  \\\n",
       "0         -            1   dataset\\a01-132-06-01.png   \n",
       "1     While            5   dataset\\a05-017-03-00.png   \n",
       "2  Labour's            8  dataset\\a01-030x-06-00.png   \n",
       "3       Roy            3   dataset\\a02-086-03-01.png   \n",
       "4       Mr.            3   dataset\\a05-099-02-01.png   \n",
       "\n",
       "                                               Image  \\\n",
       "0  [[244, 244, 233, 219, 204, 189, 173, 156, 139,...   \n",
       "1  [[255, 255, 250, 247, 246, 244, 248, 250, 247,...   \n",
       "2  [[244, 240, 211, 61, 49, 86, 163, 217, 237, 24...   \n",
       "3  [[255, 255, 255, 255, 255, 255, 255, 255, 255,...   \n",
       "4  [[242, 240, 238, 232, 229, 235, 240, 238, 237,...   \n",
       "\n",
       "                                        Image_Scaled  \\\n",
       "0  [[0.9568627450980393, 0.9568627450980393, 0.91...   \n",
       "1  [[1.0, 1.0, 0.9803921568627451, 0.968627450980...   \n",
       "2  [[0.9568627450980393, 0.9411764705882353, 0.82...   \n",
       "3  [[1.0, 1.0, 1.0, 1.0, 1.0, 1.0, 1.0, 1.0, 1.0,...   \n",
       "4  [[0.9490196078431372, 0.9411764705882353, 0.93...   \n",
       "\n",
       "                                              target  \n",
       "0  [8, -1, -1, -1, -1, -1, -1, -1, -1, -1, -1, -1...  \n",
       "1  [46, 57, 58, 61, 54, -1, -1, -1, -1, -1, -1, -...  \n",
       "2  [35, 50, 51, 64, 70, 67, 3, 68, -1, -1, -1, -1...  \n",
       "3  [41, 64, 74, -1, -1, -1, -1, -1, -1, -1, -1, -...  \n",
       "4  [36, 67, 9, -1, -1, -1, -1, -1, -1, -1, -1, -1...  "
      ]
     },
     "execution_count": 42,
     "metadata": {},
     "output_type": "execute_result"
    }
   ],
   "source": [
    "df = df.reset_index(drop=True)\n",
    "df.head()"
   ]
  },
  {
   "cell_type": "code",
   "execution_count": 43,
   "id": "d01977dd",
   "metadata": {},
   "outputs": [],
   "source": [
    "def show_image(image):\n",
    "    plt.imshow(image)\n",
    "    plt.show()"
   ]
  },
  {
   "cell_type": "code",
   "execution_count": 44,
   "id": "6045c063",
   "metadata": {},
   "outputs": [
    {
     "data": {
      "image/png": "[encoded data removed]",
      "text/plain": [
       "<Figure size 432x288 with 1 Axes>"
      ]
     },
     "metadata": {
      "needs_background": "light"
     },
     "output_type": "display_data"
    }
   ],
   "source": [
    "show_image(df['Image'][1])"
   ]
  },
  {
   "cell_type": "markdown",
   "id": "2345b9e0",
   "metadata": {},
   "source": [
    "### 3. Currently, the pixel values are between 0 to 255, normalize the images so that the pixel values are in range 0 to 1 "
   ]
  },
  {
   "cell_type": "code",
   "execution_count": 45,
   "id": "96deaf81",
   "metadata": {
    "scrolled": true
   },
   "outputs": [
    {
     "data": {
      "text/html": [
       "<div>\n",
       "<style scoped>\n",
       "    .dataframe tbody tr th:only-of-type {\n",
       "        vertical-align: middle;\n",
       "    }\n",
       "\n",
       "    .dataframe tbody tr th {\n",
       "        vertical-align: top;\n",
       "    }\n",
       "\n",
       "    .dataframe thead th {\n",
       "        text-align: right;\n",
       "    }\n",
       "</style>\n",
       "<table border=\"1\" class=\"dataframe\">\n",
       "  <thead>\n",
       "    <tr style=\"text-align: right;\">\n",
       "      <th></th>\n",
       "      <th>Word</th>\n",
       "      <th>Word_Length</th>\n",
       "      <th>Image_Path</th>\n",
       "      <th>Image</th>\n",
       "      <th>Image_Scaled</th>\n",
       "      <th>target</th>\n",
       "    </tr>\n",
       "  </thead>\n",
       "  <tbody>\n",
       "    <tr>\n",
       "      <th>0</th>\n",
       "      <td>-</td>\n",
       "      <td>1</td>\n",
       "      <td>dataset\\a01-132-06-01.png</td>\n",
       "      <td>[[244, 244, 233, 219, 204, 189, 173, 156, 139,...</td>\n",
       "      <td>[[0.9568627450980393, 0.9568627450980393, 0.91...</td>\n",
       "      <td>[8, -1, -1, -1, -1, -1, -1, -1, -1, -1, -1, -1...</td>\n",
       "    </tr>\n",
       "    <tr>\n",
       "      <th>1</th>\n",
       "      <td>While</td>\n",
       "      <td>5</td>\n",
       "      <td>dataset\\a05-017-03-00.png</td>\n",
       "      <td>[[255, 255, 250, 247, 246, 244, 248, 250, 247,...</td>\n",
       "      <td>[[1.0, 1.0, 0.9803921568627451, 0.968627450980...</td>\n",
       "      <td>[46, 57, 58, 61, 54, -1, -1, -1, -1, -1, -1, -...</td>\n",
       "    </tr>\n",
       "    <tr>\n",
       "      <th>2</th>\n",
       "      <td>Labour's</td>\n",
       "      <td>8</td>\n",
       "      <td>dataset\\a01-030x-06-00.png</td>\n",
       "      <td>[[244, 240, 211, 61, 49, 86, 163, 217, 237, 24...</td>\n",
       "      <td>[[0.9568627450980393, 0.9411764705882353, 0.82...</td>\n",
       "      <td>[35, 50, 51, 64, 70, 67, 3, 68, -1, -1, -1, -1...</td>\n",
       "    </tr>\n",
       "    <tr>\n",
       "      <th>3</th>\n",
       "      <td>Roy</td>\n",
       "      <td>3</td>\n",
       "      <td>dataset\\a02-086-03-01.png</td>\n",
       "      <td>[[255, 255, 255, 255, 255, 255, 255, 255, 255,...</td>\n",
       "      <td>[[1.0, 1.0, 1.0, 1.0, 1.0, 1.0, 1.0, 1.0, 1.0,...</td>\n",
       "      <td>[41, 64, 74, -1, -1, -1, -1, -1, -1, -1, -1, -...</td>\n",
       "    </tr>\n",
       "    <tr>\n",
       "      <th>4</th>\n",
       "      <td>Mr.</td>\n",
       "      <td>3</td>\n",
       "      <td>dataset\\a05-099-02-01.png</td>\n",
       "      <td>[[242, 240, 238, 232, 229, 235, 240, 238, 237,...</td>\n",
       "      <td>[[0.9490196078431372, 0.9411764705882353, 0.93...</td>\n",
       "      <td>[36, 67, 9, -1, -1, -1, -1, -1, -1, -1, -1, -1...</td>\n",
       "    </tr>\n",
       "  </tbody>\n",
       "</table>\n",
       "</div>"
      ],
      "text/plain": [
       "       Word  Word_Length                  Image_Path  \\\n",
       "0         -            1   dataset\\a01-132-06-01.png   \n",
       "1     While            5   dataset\\a05-017-03-00.png   \n",
       "2  Labour's            8  dataset\\a01-030x-06-00.png   \n",
       "3       Roy            3   dataset\\a02-086-03-01.png   \n",
       "4       Mr.            3   dataset\\a05-099-02-01.png   \n",
       "\n",
       "                                               Image  \\\n",
       "0  [[244, 244, 233, 219, 204, 189, 173, 156, 139,...   \n",
       "1  [[255, 255, 250, 247, 246, 244, 248, 250, 247,...   \n",
       "2  [[244, 240, 211, 61, 49, 86, 163, 217, 237, 24...   \n",
       "3  [[255, 255, 255, 255, 255, 255, 255, 255, 255,...   \n",
       "4  [[242, 240, 238, 232, 229, 235, 240, 238, 237,...   \n",
       "\n",
       "                                        Image_Scaled  \\\n",
       "0  [[0.9568627450980393, 0.9568627450980393, 0.91...   \n",
       "1  [[1.0, 1.0, 0.9803921568627451, 0.968627450980...   \n",
       "2  [[0.9568627450980393, 0.9411764705882353, 0.82...   \n",
       "3  [[1.0, 1.0, 1.0, 1.0, 1.0, 1.0, 1.0, 1.0, 1.0,...   \n",
       "4  [[0.9490196078431372, 0.9411764705882353, 0.93...   \n",
       "\n",
       "                                              target  \n",
       "0  [8, -1, -1, -1, -1, -1, -1, -1, -1, -1, -1, -1...  \n",
       "1  [46, 57, 58, 61, 54, -1, -1, -1, -1, -1, -1, -...  \n",
       "2  [35, 50, 51, 64, 70, 67, 3, 68, -1, -1, -1, -1...  \n",
       "3  [41, 64, 74, -1, -1, -1, -1, -1, -1, -1, -1, -...  \n",
       "4  [36, 67, 9, -1, -1, -1, -1, -1, -1, -1, -1, -1...  "
      ]
     },
     "execution_count": 45,
     "metadata": {},
     "output_type": "execute_result"
    }
   ],
   "source": [
    "df['Image_Scaled'] = df['Image'] / 255.\n",
    "Images = Images / 255.\n",
    "df.head()"
   ]
  },
  {
   "cell_type": "code",
   "execution_count": 46,
   "id": "ba79abc7",
   "metadata": {},
   "outputs": [
    {
     "data": {
      "image/png": "[encoded data removed]",
      "text/plain": [
       "<Figure size 432x288 with 1 Axes>"
      ]
     },
     "metadata": {
      "needs_background": "light"
     },
     "output_type": "display_data"
    }
   ],
   "source": [
    "show_image(df['Image'][0])"
   ]
  },
  {
   "cell_type": "markdown",
   "id": "ab4fbe9d",
   "metadata": {},
   "source": [
    "### 4. Create a list of all characters and use the characters's index to encode the actual words into digits"
   ]
  },
  {
   "cell_type": "code",
   "execution_count": 47,
   "id": "baf61eba",
   "metadata": {
    "scrolled": true
   },
   "outputs": [
    {
     "name": "stdout",
     "output_type": "stream",
     "text": [
      "Characters : ['!', '\"', '#', \"'\", '(', ')', '*', ',', '-', '.']\n",
      "Total number of characters: 76\n"
     ]
    }
   ],
   "source": [
    "vocabulary = sorted(list(set(''.join(df['Word']))))\n",
    "char_to_number_dict = dict(zip(vocabulary, range(len(vocabulary))))\n",
    "number_to_char_dict = dict(zip(range(len(vocabulary)), vocabulary))\n",
    "characters = list(vocabulary)\n",
    "characters_length = len(characters)\n",
    "print(f'Characters : {characters[:10]}')\n",
    "print(f'Total number of characters: {characters_length}')"
   ]
  },
  {
   "cell_type": "code",
   "execution_count": 48,
   "id": "990a55c2",
   "metadata": {},
   "outputs": [
    {
     "data": {
      "text/plain": [
       "LabelEncoder()"
      ]
     },
     "execution_count": 48,
     "metadata": {},
     "output_type": "execute_result"
    }
   ],
   "source": [
    "le = LabelEncoder()\n",
    "le.fit(characters)"
   ]
  },
  {
   "cell_type": "code",
   "execution_count": 49,
   "id": "48da93fe",
   "metadata": {},
   "outputs": [
    {
     "data": {
      "text/plain": [
       "array([24, 25], dtype=int64)"
      ]
     },
     "execution_count": 49,
     "metadata": {},
     "output_type": "execute_result"
    }
   ],
   "source": [
    "le.transform(['A','B'])"
   ]
  },
  {
   "cell_type": "markdown",
   "id": "825ade9e",
   "metadata": {},
   "source": [
    "### 5. Pad all the words to have a similar length"
   ]
  },
  {
   "cell_type": "code",
   "execution_count": 50,
   "id": "e70aa25e",
   "metadata": {},
   "outputs": [
    {
     "name": "stdout",
     "output_type": "stream",
     "text": [
      "16\n"
     ]
    }
   ],
   "source": [
    "# Finding the maximum length of a word\n",
    "maximum_word_length = df['Word'].str.len().max()\n",
    "print(maximum_word_length)"
   ]
  },
  {
   "cell_type": "code",
   "execution_count": 51,
   "id": "cb8eb8f5",
   "metadata": {},
   "outputs": [],
   "source": [
    "def transform_word_to_array(word):\n",
    "    if not word:\n",
    "        return np.ones(maximum_word_length) * -1\n",
    "    \n",
    "    word_char = le.transform(list(word))\n",
    "    result = np.pad(word_char, (0, maximum_word_length - len(word_char)), 'constant', constant_values=(0, -1))\n",
    "    return result"
   ]
  },
  {
   "cell_type": "code",
   "execution_count": 52,
   "id": "6986ddf0",
   "metadata": {},
   "outputs": [
    {
     "name": "stdout",
     "output_type": "stream",
     "text": [
      "[65 74 69 57 64 63 -1 -1 -1 -1 -1 -1 -1 -1 -1 -1]\n",
      "[39 74 69 57 64 63 -1 -1 -1 -1 -1 -1 -1 -1 -1 -1]\n",
      "[-1. -1. -1. -1. -1. -1. -1. -1. -1. -1. -1. -1. -1. -1. -1. -1.]\n"
     ]
    }
   ],
   "source": [
    "# Testing couple of words\n",
    "print(transform_word_to_array('python'))\n",
    "print(transform_word_to_array('Python'))\n",
    "print(transform_word_to_array(None))"
   ]
  },
  {
   "cell_type": "code",
   "execution_count": 53,
   "id": "c0c80f50",
   "metadata": {},
   "outputs": [
    {
     "data": {
      "text/html": [
       "<div>\n",
       "<style scoped>\n",
       "    .dataframe tbody tr th:only-of-type {\n",
       "        vertical-align: middle;\n",
       "    }\n",
       "\n",
       "    .dataframe tbody tr th {\n",
       "        vertical-align: top;\n",
       "    }\n",
       "\n",
       "    .dataframe thead th {\n",
       "        text-align: right;\n",
       "    }\n",
       "</style>\n",
       "<table border=\"1\" class=\"dataframe\">\n",
       "  <thead>\n",
       "    <tr style=\"text-align: right;\">\n",
       "      <th></th>\n",
       "      <th>Word</th>\n",
       "      <th>Word_Length</th>\n",
       "      <th>Image_Path</th>\n",
       "      <th>Image</th>\n",
       "      <th>Image_Scaled</th>\n",
       "      <th>target</th>\n",
       "    </tr>\n",
       "  </thead>\n",
       "  <tbody>\n",
       "    <tr>\n",
       "      <th>0</th>\n",
       "      <td>-</td>\n",
       "      <td>1</td>\n",
       "      <td>dataset\\a01-132-06-01.png</td>\n",
       "      <td>[[244, 244, 233, 219, 204, 189, 173, 156, 139,...</td>\n",
       "      <td>[[0.9568627450980393, 0.9568627450980393, 0.91...</td>\n",
       "      <td>[8, -1, -1, -1, -1, -1, -1, -1, -1, -1, -1, -1...</td>\n",
       "    </tr>\n",
       "    <tr>\n",
       "      <th>1</th>\n",
       "      <td>While</td>\n",
       "      <td>5</td>\n",
       "      <td>dataset\\a05-017-03-00.png</td>\n",
       "      <td>[[255, 255, 250, 247, 246, 244, 248, 250, 247,...</td>\n",
       "      <td>[[1.0, 1.0, 0.9803921568627451, 0.968627450980...</td>\n",
       "      <td>[46, 57, 58, 61, 54, -1, -1, -1, -1, -1, -1, -...</td>\n",
       "    </tr>\n",
       "    <tr>\n",
       "      <th>2</th>\n",
       "      <td>Labour's</td>\n",
       "      <td>8</td>\n",
       "      <td>dataset\\a01-030x-06-00.png</td>\n",
       "      <td>[[244, 240, 211, 61, 49, 86, 163, 217, 237, 24...</td>\n",
       "      <td>[[0.9568627450980393, 0.9411764705882353, 0.82...</td>\n",
       "      <td>[35, 50, 51, 64, 70, 67, 3, 68, -1, -1, -1, -1...</td>\n",
       "    </tr>\n",
       "    <tr>\n",
       "      <th>3</th>\n",
       "      <td>Roy</td>\n",
       "      <td>3</td>\n",
       "      <td>dataset\\a02-086-03-01.png</td>\n",
       "      <td>[[255, 255, 255, 255, 255, 255, 255, 255, 255,...</td>\n",
       "      <td>[[1.0, 1.0, 1.0, 1.0, 1.0, 1.0, 1.0, 1.0, 1.0,...</td>\n",
       "      <td>[41, 64, 74, -1, -1, -1, -1, -1, -1, -1, -1, -...</td>\n",
       "    </tr>\n",
       "    <tr>\n",
       "      <th>4</th>\n",
       "      <td>Mr.</td>\n",
       "      <td>3</td>\n",
       "      <td>dataset\\a05-099-02-01.png</td>\n",
       "      <td>[[242, 240, 238, 232, 229, 235, 240, 238, 237,...</td>\n",
       "      <td>[[0.9490196078431372, 0.9411764705882353, 0.93...</td>\n",
       "      <td>[36, 67, 9, -1, -1, -1, -1, -1, -1, -1, -1, -1...</td>\n",
       "    </tr>\n",
       "  </tbody>\n",
       "</table>\n",
       "</div>"
      ],
      "text/plain": [
       "       Word  Word_Length                  Image_Path  \\\n",
       "0         -            1   dataset\\a01-132-06-01.png   \n",
       "1     While            5   dataset\\a05-017-03-00.png   \n",
       "2  Labour's            8  dataset\\a01-030x-06-00.png   \n",
       "3       Roy            3   dataset\\a02-086-03-01.png   \n",
       "4       Mr.            3   dataset\\a05-099-02-01.png   \n",
       "\n",
       "                                               Image  \\\n",
       "0  [[244, 244, 233, 219, 204, 189, 173, 156, 139,...   \n",
       "1  [[255, 255, 250, 247, 246, 244, 248, 250, 247,...   \n",
       "2  [[244, 240, 211, 61, 49, 86, 163, 217, 237, 24...   \n",
       "3  [[255, 255, 255, 255, 255, 255, 255, 255, 255,...   \n",
       "4  [[242, 240, 238, 232, 229, 235, 240, 238, 237,...   \n",
       "\n",
       "                                        Image_Scaled  \\\n",
       "0  [[0.9568627450980393, 0.9568627450980393, 0.91...   \n",
       "1  [[1.0, 1.0, 0.9803921568627451, 0.968627450980...   \n",
       "2  [[0.9568627450980393, 0.9411764705882353, 0.82...   \n",
       "3  [[1.0, 1.0, 1.0, 1.0, 1.0, 1.0, 1.0, 1.0, 1.0,...   \n",
       "4  [[0.9490196078431372, 0.9411764705882353, 0.93...   \n",
       "\n",
       "                                              target  \n",
       "0  [8, -1, -1, -1, -1, -1, -1, -1, -1, -1, -1, -1...  \n",
       "1  [46, 57, 58, 61, 54, -1, -1, -1, -1, -1, -1, -...  \n",
       "2  [35, 50, 51, 64, 70, 67, 3, 68, -1, -1, -1, -1...  \n",
       "3  [41, 64, 74, -1, -1, -1, -1, -1, -1, -1, -1, -...  \n",
       "4  [36, 67, 9, -1, -1, -1, -1, -1, -1, -1, -1, -1...  "
      ]
     },
     "execution_count": 53,
     "metadata": {},
     "output_type": "execute_result"
    }
   ],
   "source": [
    "df['target'] = df['Word'].apply(transform_word_to_array)\n",
    "df.head()"
   ]
  },
  {
   "cell_type": "code",
   "execution_count": 54,
   "id": "84269ff6",
   "metadata": {},
   "outputs": [
    {
     "data": {
      "text/html": [
       "<div>\n",
       "<style scoped>\n",
       "    .dataframe tbody tr th:only-of-type {\n",
       "        vertical-align: middle;\n",
       "    }\n",
       "\n",
       "    .dataframe tbody tr th {\n",
       "        vertical-align: top;\n",
       "    }\n",
       "\n",
       "    .dataframe thead th {\n",
       "        text-align: right;\n",
       "    }\n",
       "</style>\n",
       "<table border=\"1\" class=\"dataframe\">\n",
       "  <thead>\n",
       "    <tr style=\"text-align: right;\">\n",
       "      <th></th>\n",
       "      <th>Word</th>\n",
       "      <th>Word_Length</th>\n",
       "      <th>Image_Path</th>\n",
       "      <th>Image</th>\n",
       "      <th>Image_Scaled</th>\n",
       "      <th>target</th>\n",
       "    </tr>\n",
       "  </thead>\n",
       "  <tbody>\n",
       "    <tr>\n",
       "      <th>0</th>\n",
       "      <td>-</td>\n",
       "      <td>1</td>\n",
       "      <td>dataset\\a01-132-06-01.png</td>\n",
       "      <td>[[244, 244, 233, 219, 204, 189, 173, 156, 139,...</td>\n",
       "      <td>[[0.9568627450980393, 0.9568627450980393, 0.91...</td>\n",
       "      <td>[8, -1, -1, -1, -1, -1, -1, -1, -1, -1, -1, -1...</td>\n",
       "    </tr>\n",
       "    <tr>\n",
       "      <th>1</th>\n",
       "      <td>While</td>\n",
       "      <td>5</td>\n",
       "      <td>dataset\\a05-017-03-00.png</td>\n",
       "      <td>[[255, 255, 250, 247, 246, 244, 248, 250, 247,...</td>\n",
       "      <td>[[1.0, 1.0, 0.9803921568627451, 0.968627450980...</td>\n",
       "      <td>[46, 57, 58, 61, 54, -1, -1, -1, -1, -1, -1, -...</td>\n",
       "    </tr>\n",
       "    <tr>\n",
       "      <th>2</th>\n",
       "      <td>Labour's</td>\n",
       "      <td>8</td>\n",
       "      <td>dataset\\a01-030x-06-00.png</td>\n",
       "      <td>[[244, 240, 211, 61, 49, 86, 163, 217, 237, 24...</td>\n",
       "      <td>[[0.9568627450980393, 0.9411764705882353, 0.82...</td>\n",
       "      <td>[35, 50, 51, 64, 70, 67, 3, 68, -1, -1, -1, -1...</td>\n",
       "    </tr>\n",
       "    <tr>\n",
       "      <th>3</th>\n",
       "      <td>Roy</td>\n",
       "      <td>3</td>\n",
       "      <td>dataset\\a02-086-03-01.png</td>\n",
       "      <td>[[255, 255, 255, 255, 255, 255, 255, 255, 255,...</td>\n",
       "      <td>[[1.0, 1.0, 1.0, 1.0, 1.0, 1.0, 1.0, 1.0, 1.0,...</td>\n",
       "      <td>[41, 64, 74, -1, -1, -1, -1, -1, -1, -1, -1, -...</td>\n",
       "    </tr>\n",
       "    <tr>\n",
       "      <th>4</th>\n",
       "      <td>Mr.</td>\n",
       "      <td>3</td>\n",
       "      <td>dataset\\a05-099-02-01.png</td>\n",
       "      <td>[[242, 240, 238, 232, 229, 235, 240, 238, 237,...</td>\n",
       "      <td>[[0.9490196078431372, 0.9411764705882353, 0.93...</td>\n",
       "      <td>[36, 67, 9, -1, -1, -1, -1, -1, -1, -1, -1, -1...</td>\n",
       "    </tr>\n",
       "  </tbody>\n",
       "</table>\n",
       "</div>"
      ],
      "text/plain": [
       "       Word  Word_Length                  Image_Path  \\\n",
       "0         -            1   dataset\\a01-132-06-01.png   \n",
       "1     While            5   dataset\\a05-017-03-00.png   \n",
       "2  Labour's            8  dataset\\a01-030x-06-00.png   \n",
       "3       Roy            3   dataset\\a02-086-03-01.png   \n",
       "4       Mr.            3   dataset\\a05-099-02-01.png   \n",
       "\n",
       "                                               Image  \\\n",
       "0  [[244, 244, 233, 219, 204, 189, 173, 156, 139,...   \n",
       "1  [[255, 255, 250, 247, 246, 244, 248, 250, 247,...   \n",
       "2  [[244, 240, 211, 61, 49, 86, 163, 217, 237, 24...   \n",
       "3  [[255, 255, 255, 255, 255, 255, 255, 255, 255,...   \n",
       "4  [[242, 240, 238, 232, 229, 235, 240, 238, 237,...   \n",
       "\n",
       "                                        Image_Scaled  \\\n",
       "0  [[0.9568627450980393, 0.9568627450980393, 0.91...   \n",
       "1  [[1.0, 1.0, 0.9803921568627451, 0.968627450980...   \n",
       "2  [[0.9568627450980393, 0.9411764705882353, 0.82...   \n",
       "3  [[1.0, 1.0, 1.0, 1.0, 1.0, 1.0, 1.0, 1.0, 1.0,...   \n",
       "4  [[0.9490196078431372, 0.9411764705882353, 0.93...   \n",
       "\n",
       "                                              target  \n",
       "0  [8, -1, -1, -1, -1, -1, -1, -1, -1, -1, -1, -1...  \n",
       "1  [46, 57, 58, 61, 54, -1, -1, -1, -1, -1, -1, -...  \n",
       "2  [35, 50, 51, 64, 70, 67, 3, 68, -1, -1, -1, -1...  \n",
       "3  [41, 64, 74, -1, -1, -1, -1, -1, -1, -1, -1, -...  \n",
       "4  [36, 67, 9, -1, -1, -1, -1, -1, -1, -1, -1, -1...  "
      ]
     },
     "execution_count": 54,
     "metadata": {},
     "output_type": "execute_result"
    }
   ],
   "source": [
    "# Resetting index to access Images array\n",
    "#df = df.reset_index().drop(columns=['0'])\n",
    "df.head()"
   ]
  },
  {
   "cell_type": "markdown",
   "id": "c1952c79",
   "metadata": {},
   "source": [
    "### 6. Split your dataset for training, validation and testing"
   ]
  },
  {
   "cell_type": "code",
   "execution_count": 55,
   "id": "71aec838",
   "metadata": {},
   "outputs": [
    {
     "name": "stdout",
     "output_type": "stream",
     "text": [
      "Shape of X_train is (11000, 3)\n",
      "Shape of X_test is (1000, 3)\n",
      "Shape of y_train is (11000, 16)\n",
      "Shape of y_test is (1000, 16)\n"
     ]
    }
   ],
   "source": [
    "# Splitting dataset into training and valid 11k, 1k\n",
    "\n",
    "X_df, X_valid_df, y, y_valid = train_test_split(df[['Word', 'Word_Length', 'Image_Scaled']], \n",
    "                                                      np.array(df['target'].to_list()), \n",
    "                                                      test_size=0.0833, \n",
    "                                                      random_state=42)\n",
    "print(f'Shape of X_train is {X_df.shape}')\n",
    "print(f'Shape of X_test is {X_valid_df.shape}')\n",
    "print(f'Shape of y_train is {y.shape}')\n",
    "print(f'Shape of y_test is {y_valid.shape}')"
   ]
  },
  {
   "cell_type": "code",
   "execution_count": 56,
   "id": "dcc3c7e5",
   "metadata": {},
   "outputs": [
    {
     "name": "stdout",
     "output_type": "stream",
     "text": [
      "Shape of X_train is (9000, 3)\n",
      "Shape of X_test is (2000, 3)\n",
      "Shape of y_train is (9000, 16)\n",
      "Shape of y_test is (2000, 16)\n"
     ]
    }
   ],
   "source": [
    "# Splitting dataset into training and test 10k, 2k\n",
    "\n",
    "X_train_df, X_test_df, y_train, y_test = train_test_split(X_df, y, test_size=0.1818, random_state=42)\n",
    "print(f'Shape of X_train is {X_train_df.shape}')\n",
    "print(f'Shape of X_test is {X_test_df.shape}')\n",
    "print(f'Shape of y_train is {y_train.shape}')\n",
    "print(f'Shape of y_test is {y_test.shape}')"
   ]
  },
  {
   "cell_type": "code",
   "execution_count": 58,
   "id": "8d5374e5",
   "metadata": {},
   "outputs": [
    {
     "name": "stdout",
     "output_type": "stream",
     "text": [
      "Shape of X_train is (9000, 128, 32)\n",
      "Shape of y_train is (9000, 16)\n",
      "Shape of X_valid is (1000, 128, 32)\n",
      "Shape of y_valid is (1000, 16)\n",
      "Shape of X_test is (2000, 128, 32)\n",
      "Shape of y_test is (2000, 16)\n"
     ]
    }
   ],
   "source": [
    "X_train = Images[X_train_df.index]\n",
    "\n",
    "X_valid = Images[X_valid_df.index]\n",
    "\n",
    "X_test = Images[X_test_df.index]\n",
    "\n",
    "print(f'Shape of X_train is {X_train.shape}')\n",
    "print(f'Shape of y_train is {y_train.shape}')\n",
    "print(f'Shape of X_valid is {X_valid.shape}')\n",
    "print(f'Shape of y_valid is {y_valid.shape}')\n",
    "print(f'Shape of X_test is {X_test.shape}')\n",
    "print(f'Shape of y_test is {y_test.shape}')"
   ]
  },
  {
   "cell_type": "code",
   "execution_count": 59,
   "id": "2ad4dd03",
   "metadata": {},
   "outputs": [],
   "source": [
    "# This is for debugging\n",
    "#print(df['Image'].apply(lambda x: prod(x.shape)).min())\n",
    "#print(df['target'].apply(lambda x: prod(x.shape)).max())"
   ]
  },
  {
   "cell_type": "code",
   "execution_count": 60,
   "id": "1c2de5b9",
   "metadata": {},
   "outputs": [
    {
     "name": "stdout",
     "output_type": "stream",
     "text": [
      "(12000, 16)\n"
     ]
    }
   ],
   "source": [
    "target = []\n",
    "for value in df['target'].to_numpy():\n",
    "    target.append(value)\n",
    "target = np.array(target)\n",
    "print(target.shape)"
   ]
  },
  {
   "cell_type": "code",
   "execution_count": 61,
   "id": "c5ae579e",
   "metadata": {},
   "outputs": [
    {
     "data": {
      "text/plain": [
       "((9000, 128, 32), (9000, 16))"
      ]
     },
     "execution_count": 61,
     "metadata": {},
     "output_type": "execute_result"
    }
   ],
   "source": [
    "X_train.shape, y_train.shape"
   ]
  },
  {
   "cell_type": "markdown",
   "id": "4f6edea9",
   "metadata": {},
   "source": [
    "### 7. Create a model for training:\n",
    "a) Add several CNN layers to extract the sequence of features\n",
    "\n",
    "b) Add Bi-LSTM layers to propagate through the sequence\n",
    "\n",
    "c) Add a dense layer (output layer) with total number of neurons as (total number of \n",
    "characters + 1) and the activation as softmax."
   ]
  },
  {
   "cell_type": "code",
   "execution_count": 62,
   "id": "f5f1d0d7",
   "metadata": {
    "scrolled": true
   },
   "outputs": [
    {
     "name": "stdout",
     "output_type": "stream",
     "text": [
      "Model: \"model\"\n",
      "_________________________________________________________________\n",
      "Layer (type)                 Output Shape              Param #   \n",
      "=================================================================\n",
      "input_image (InputLayer)     [(None, 128, 32, 1)]      0         \n",
      "_________________________________________________________________\n",
      "Conv1 (Conv2D)               (None, 128, 32, 32)       320       \n",
      "_________________________________________________________________\n",
      "pool1 (MaxPooling2D)         (None, 64, 16, 32)        0         \n",
      "_________________________________________________________________\n",
      "batch_normalization (BatchNo (None, 64, 16, 32)        128       \n",
      "_________________________________________________________________\n",
      "Conv2 (Conv2D)               (None, 64, 16, 64)        18496     \n",
      "_________________________________________________________________\n",
      "pool2 (MaxPooling2D)         (None, 32, 8, 64)         0         \n",
      "_________________________________________________________________\n",
      "batch_normalization_1 (Batch (None, 32, 8, 64)         256       \n",
      "_________________________________________________________________\n",
      "Conv3 (Conv2D)               (None, 32, 8, 128)        73856     \n",
      "_________________________________________________________________\n",
      "pool3 (MaxPooling2D)         (None, 32, 4, 128)        0         \n",
      "_________________________________________________________________\n",
      "batch_normalization_2 (Batch (None, 32, 4, 128)        512       \n",
      "_________________________________________________________________\n",
      "reshape (Reshape)            (None, 32, 512)           0         \n",
      "_________________________________________________________________\n",
      "dense1 (Dense)               (None, 32, 32)            16416     \n",
      "_________________________________________________________________\n",
      "dropout (Dropout)            (None, 32, 32)            0         \n",
      "_________________________________________________________________\n",
      "bidirectional (Bidirectional (None, 32, 256)           164864    \n",
      "_________________________________________________________________\n",
      "bidirectional_1 (Bidirection (None, 32, 256)           394240    \n",
      "_________________________________________________________________\n",
      "dense2 (Dense)               (None, 32, 78)            20046     \n",
      "_________________________________________________________________\n",
      "softmax (Activation)         (None, 32, 78)            0         \n",
      "=================================================================\n",
      "Total params: 689,134\n",
      "Trainable params: 688,686\n",
      "Non-trainable params: 448\n",
      "_________________________________________________________________\n"
     ]
    }
   ],
   "source": [
    "optimizer_name = 'Adam'\n",
    "image_width, image_height = X_train[0].shape[0], X_train[0].shape[1]\n",
    "input_img = keras.Input(shape=(image_width, image_height, 1), name = 'input_image')\n",
    "labels = keras.layers.Input(name='label', shape=(None, ))\n",
    "\n",
    "x = keras.layers.Conv2D(32,\n",
    "                       (3,3),\n",
    "                       activation='relu',\n",
    "                       kernel_initializer='he_normal',\n",
    "                        padding='same',\n",
    "                        name='Conv1')(input_img)\n",
    "x = keras.layers.MaxPool2D((2,2), name='pool1')(x)\n",
    "x = keras.layers.BatchNormalization()(x)\n",
    "\n",
    "x = keras.layers.Conv2D(64, \n",
    "                       (3,3),\n",
    "                       activation='relu',\n",
    "                       kernel_initializer = 'he_normal',\n",
    "                       padding='same',\n",
    "                       name='Conv2')(x)\n",
    "x = keras.layers.MaxPool2D((2,2), name='pool2')(x)\n",
    "x = keras.layers.BatchNormalization()(x)\n",
    "\n",
    "x = keras.layers.Conv2D(128, \n",
    "                       (3,3),\n",
    "                       activation='relu',\n",
    "                       kernel_initializer = 'he_normal',\n",
    "                       padding='same',\n",
    "                       name='Conv3')(x)\n",
    "x = keras.layers.MaxPool2D((1,2), name='pool3')(x)\n",
    "x = keras.layers.BatchNormalization()(x)\n",
    "\n",
    "new_shape = ((image_width // 4) , (image_height // 4) * 64)\n",
    "\n",
    "x = keras.layers.Reshape(target_shape = new_shape, name = 'reshape')(x)\n",
    "x = keras.layers.Dense(32, activation='relu', kernel_initializer='he_normal', name = 'dense1')(x)\n",
    "x = keras.layers.Dropout(0.2)(x)\n",
    "\n",
    "x = keras.layers.Bidirectional(\n",
    "        keras.layers.LSTM(128, return_sequences=True, dropout=0.25)\n",
    ")(x)\n",
    "\n",
    "x = keras.layers.Bidirectional(\n",
    "        keras.layers.LSTM(128, return_sequences=True, dropout=0.25)\n",
    ")(x)\n",
    "\n",
    "x = keras.layers.Dense(\n",
    "    characters_length + 2, name='dense2', kernel_initializer='he_normal'\n",
    ")(x)\n",
    "    \n",
    "y_pred = Activation('softmax', name='softmax')(x)    \n",
    "model = keras.Model(inputs = input_img, outputs = y_pred)    \n",
    "model.summary()"
   ]
  },
  {
   "cell_type": "code",
   "execution_count": 63,
   "id": "69b76030",
   "metadata": {},
   "outputs": [
    {
     "name": "stdout",
     "output_type": "stream",
     "text": [
      "train_size: 9000\n",
      "valid_size: 1000\n"
     ]
    }
   ],
   "source": [
    "train_size = X_train.shape[0]\n",
    "print(f'train_size: {train_size}')\n",
    "\n",
    "valid_size = X_valid.shape[0]\n",
    "print(f'valid_size: {valid_size}')"
   ]
  },
  {
   "cell_type": "code",
   "execution_count": 64,
   "id": "deb963ff",
   "metadata": {
    "scrolled": true
   },
   "outputs": [],
   "source": [
    "num_of_timestamps = 32\n",
    "train_label_len = np.zeros([train_size, 1])\n",
    "train_input_len = np.ones([train_size, 1])*(num_of_timestamps - 2)\n",
    "train_output = np.zeros([train_size])\n",
    "for i in range(y_train.shape[0]):\n",
    "    train_label_len[i] = len([x for x in y_train[i] if x > -1])    "
   ]
  },
  {
   "cell_type": "code",
   "execution_count": 65,
   "id": "f2090348",
   "metadata": {},
   "outputs": [],
   "source": [
    "valid_label_len = np.zeros([valid_size, 1])\n",
    "valid_input_len = np.ones([valid_size, 1])*(num_of_timestamps - 2)\n",
    "valid_output = np.zeros([valid_size])\n",
    "for i in range(y_valid.shape[0]):\n",
    "    valid_label_len[i] = len([x for x in y_valid[i] if x > -1])"
   ]
  },
  {
   "cell_type": "code",
   "execution_count": 66,
   "id": "d1b33c7b",
   "metadata": {},
   "outputs": [],
   "source": [
    "def ctc_lambda_func(args):\n",
    "    y_pred, labels, input_length, label_length = args\n",
    "    # the 2 is critical here since the first couple outputs of the RNN\n",
    "    # tend to be garbage\n",
    "    print(y_pred)\n",
    "    y_pred = y_pred[:, 2:, :]\n",
    "    return backend.ctc_batch_cost(labels, y_pred, input_length, label_length)"
   ]
  },
  {
   "cell_type": "markdown",
   "id": "330968f4",
   "metadata": {},
   "source": [
    "### 8. The out sequence from the output layer will be fed to the CTC layer. "
   ]
  },
  {
   "cell_type": "code",
   "execution_count": 67,
   "id": "412ed0b7",
   "metadata": {},
   "outputs": [
    {
     "name": "stdout",
     "output_type": "stream",
     "text": [
      "Tensor(\"Placeholder:0\", shape=(None, 32, 78), dtype=float32)\n"
     ]
    }
   ],
   "source": [
    "labels = keras.Input(name='gtruth_labels', shape=[maximum_word_length], dtype='float32')\n",
    "input_length = keras.Input(name='input_length', shape=[1], dtype='int64')\n",
    "label_length = keras.Input(name='label_length', shape=[1], dtype='int64')\n",
    "\n",
    "ctc_loss = layers.Lambda(ctc_lambda_func, output_shape = (1, ), name='ctc')([y_pred, labels, input_length, label_length])\n",
    "model_final = keras.Model(inputs=[input_img, labels, input_length, label_length], outputs = ctc_loss)"
   ]
  },
  {
   "cell_type": "code",
   "execution_count": null,
   "id": "4708ebc8",
   "metadata": {
    "scrolled": true
   },
   "outputs": [
    {
     "name": "stdout",
     "output_type": "stream",
     "text": [
      "Epoch 1/10\n",
      "Tensor(\"model_1/softmax/Softmax:0\", shape=(None, 32, 78), dtype=float32)\n",
      "Tensor(\"model_1/softmax/Softmax:0\", shape=(None, 32, 78), dtype=float32)\n",
      "282/282 [==============================] - ETA: 0s - loss: 11.7808Tensor(\"model_1/softmax/Softmax:0\", shape=(None, 32, 78), dtype=float32)\n",
      "282/282 [==============================] - 105s 337ms/step - loss: 11.7808 - val_loss: 36.1420\n",
      "Epoch 2/10\n",
      "102/282 [=========>....................] - ETA: 53s - loss: 10.2184"
     ]
    }
   ],
   "source": [
    "# Train out model\n",
    "model_final.save('model.h5')\n",
    "model_final.compile(loss={'ctc': lambda y_true, y_pred: y_pred}, optimizer=keras.optimizers.Adam())\n",
    "\n",
    "model_final.fit(x=[X_train, y_train, train_input_len, train_label_len], \n",
    "                y= train_output,\n",
    "                validation_data=([X_valid, y_valid, valid_input_len, valid_label_len],\n",
    "                valid_output),\n",
    "                epochs=10)"
   ]
  },
  {
   "cell_type": "code",
   "execution_count": 70,
   "id": "f55ce5d7",
   "metadata": {},
   "outputs": [],
   "source": [
    "def num_to_label(num):\n",
    "    return [number_to_char_dict[x] for x in num if x > -1]"
   ]
  },
  {
   "cell_type": "code",
   "execution_count": 71,
   "id": "6272396a",
   "metadata": {},
   "outputs": [],
   "source": [
    "# Check the performance\n",
    "preds = model.predict(X_valid)\n",
    "decoded = backend.get_value(backend.ctc_decode(preds, input_length=np.ones(preds.shape[0])*preds.shape[1], \n",
    "                                   greedy=True)[0][0])\n",
    "\n",
    "prediction = []\n",
    "for i in range(valid_size):\n",
    "    prediction.append(num_to_label(decoded[i]))"
   ]
  },
  {
   "cell_type": "code",
   "execution_count": 72,
   "id": "0aec3e57",
   "metadata": {
    "scrolled": true
   },
   "outputs": [
    {
     "name": "stdout",
     "output_type": "stream",
     "text": [
      "Correct characters predicted : 0.00%\n",
      "Correct words predicted      : 0.00%\n"
     ]
    }
   ],
   "source": [
    "y_true = X_valid_df['Word'].to_numpy()\n",
    "correct_char = 0\n",
    "total_char = 0\n",
    "correct = 0\n",
    "\n",
    "for i in range(valid_size):\n",
    "    pr = prediction[i]\n",
    "    tr = y_true[i]\n",
    "    total_char += len(tr)\n",
    "    \n",
    "    for j in range(min(len(tr), len(pr))):\n",
    "        if tr[j] == pr[j]:\n",
    "            correct_char += 1\n",
    "            \n",
    "    if pr == tr :\n",
    "        correct += 1 \n",
    "    \n",
    "print('Correct characters predicted : %.2f%%' %(correct_char*100/total_char))\n",
    "print('Correct words predicted      : %.2f%%' %(correct*100/valid_size))"
   ]
  },
  {
   "cell_type": "markdown",
   "id": "148c93ae",
   "metadata": {},
   "source": [
    "### 9. Predict output using your model(do not use the last loss layer) on validation images, use ctc_decode to decode your output and then print the actual words using the indexes from your character's list."
   ]
  },
  {
   "cell_type": "code",
   "execution_count": 73,
   "id": "98cbe254",
   "metadata": {},
   "outputs": [
    {
     "data": {
      "image/png": "[encoded data removed]",
      "text/plain": [
       "<Figure size 1080x720 with 6 Axes>"
      ]
     },
     "metadata": {
      "needs_background": "light"
     },
     "output_type": "display_data"
    }
   ],
   "source": [
    "test = X_test_df\n",
    "plt.figure(figsize=(15, 10))\n",
    "for i in range(6):\n",
    "    ax = plt.subplot(2, 3, i+1)\n",
    "    image = test.iloc[i, -1]\n",
    "    plt.imshow(cv2.rotate(image, cv2.ROTATE_90_COUNTERCLOCKWISE))\n",
    "    pred = model.predict(image.reshape(1, 128, 32, 1))\n",
    "    decoded = backend.get_value(backend.ctc_decode(pred, input_length=np.ones(pred.shape[0])*pred.shape[1], \n",
    "                                       greedy=True)[0][0])\n",
    "    plt.title(num_to_label(decoded[0]), fontsize=12)\n",
    "    plt.axis('off')\n",
    "    \n",
    "plt.subplots_adjust(wspace=0.2, hspace=-0.8)"
   ]
  },
  {
   "cell_type": "code",
   "execution_count": 451,
   "id": "c9c1f6af",
   "metadata": {},
   "outputs": [
    {
     "data": {
      "text/html": [
       "<div>\n",
       "<style scoped>\n",
       "    .dataframe tbody tr th:only-of-type {\n",
       "        vertical-align: middle;\n",
       "    }\n",
       "\n",
       "    .dataframe tbody tr th {\n",
       "        vertical-align: top;\n",
       "    }\n",
       "\n",
       "    .dataframe thead th {\n",
       "        text-align: right;\n",
       "    }\n",
       "</style>\n",
       "<table border=\"1\" class=\"dataframe\">\n",
       "  <thead>\n",
       "    <tr style=\"text-align: right;\">\n",
       "      <th></th>\n",
       "      <th>Word</th>\n",
       "      <th>Word_Length</th>\n",
       "      <th>Image_Scaled</th>\n",
       "    </tr>\n",
       "  </thead>\n",
       "  <tbody>\n",
       "    <tr>\n",
       "      <th>6032</th>\n",
       "      <td>revealed</td>\n",
       "      <td>8</td>\n",
       "      <td>[[1.0, 1.0, 1.0, 1.0, 1.0, 0.996078431372549, ...</td>\n",
       "    </tr>\n",
       "    <tr>\n",
       "      <th>3367</th>\n",
       "      <td>white-faced</td>\n",
       "      <td>11</td>\n",
       "      <td>[[1.0, 0.8980392156862745, 0.23137254901960785...</td>\n",
       "    </tr>\n",
       "    <tr>\n",
       "      <th>10607</th>\n",
       "      <td>territory</td>\n",
       "      <td>9</td>\n",
       "      <td>[[1.0, 1.0, 1.0, 1.0, 1.0, 1.0, 1.0, 1.0, 1.0,...</td>\n",
       "    </tr>\n",
       "    <tr>\n",
       "      <th>654</th>\n",
       "      <td>plan</td>\n",
       "      <td>4</td>\n",
       "      <td>[[1.0, 1.0, 0.9686274509803922, 1.0, 1.0, 0.98...</td>\n",
       "    </tr>\n",
       "    <tr>\n",
       "      <th>9615</th>\n",
       "      <td>involved</td>\n",
       "      <td>8</td>\n",
       "      <td>[[1.0, 1.0, 1.0, 1.0, 1.0, 1.0, 1.0, 1.0, 1.0,...</td>\n",
       "    </tr>\n",
       "  </tbody>\n",
       "</table>\n",
       "</div>"
      ],
      "text/plain": [
       "              Word  Word_Length  \\\n",
       "6032      revealed            8   \n",
       "3367   white-faced           11   \n",
       "10607    territory            9   \n",
       "654           plan            4   \n",
       "9615      involved            8   \n",
       "\n",
       "                                            Image_Scaled  \n",
       "6032   [[1.0, 1.0, 1.0, 1.0, 1.0, 0.996078431372549, ...  \n",
       "3367   [[1.0, 0.8980392156862745, 0.23137254901960785...  \n",
       "10607  [[1.0, 1.0, 1.0, 1.0, 1.0, 1.0, 1.0, 1.0, 1.0,...  \n",
       "654    [[1.0, 1.0, 0.9686274509803922, 1.0, 1.0, 0.98...  \n",
       "9615   [[1.0, 1.0, 1.0, 1.0, 1.0, 1.0, 1.0, 1.0, 1.0,...  "
      ]
     },
     "execution_count": 451,
     "metadata": {},
     "output_type": "execute_result"
    }
   ],
   "source": [
    "X_test_df.head()"
   ]
  },
  {
   "cell_type": "code",
   "execution_count": 466,
   "id": "9e4b3121",
   "metadata": {},
   "outputs": [
    {
     "data": {
      "image/png": "[encoded data removed]",
      "text/plain": [
       "<Figure size 1080x720 with 6 Axes>"
      ]
     },
     "metadata": {
      "needs_background": "light"
     },
     "output_type": "display_data"
    }
   ],
   "source": [
    "test = X_train_df\n",
    "plt.figure(figsize=(15, 10))\n",
    "for i in range(6):\n",
    "    ax = plt.subplot(2, 3, i+1)\n",
    "    image = test.iloc[i, -1]\n",
    "    plt.imshow(cv2.rotate(image, cv2.ROTATE_90_COUNTERCLOCKWISE))\n",
    "    \n",
    "    plt.title(test.iloc[i, 0], fontsize=12)\n",
    "    plt.axis('off')\n",
    "    \n",
    "plt.subplots_adjust(wspace=0.2, hspace=-0.8)"
   ]
  },
  {
   "cell_type": "code",
   "execution_count": null,
   "id": "9851b2d4",
   "metadata": {},
   "outputs": [],
   "source": []
  }
 ],
 "metadata": {
  "kernelspec": {
   "display_name": "Python 3",
   "language": "python",
   "name": "python3"
  },
  "language_info": {
   "codemirror_mode": {
    "name": "ipython",
    "version": 3
   },
   "file_extension": ".py",
   "mimetype": "text/x-python",
   "name": "python",
   "nbconvert_exporter": "python",
   "pygments_lexer": "ipython3",
   "version": "3.8.8"
  }
 },
 "nbformat": 4,
 "nbformat_minor": 5
}
