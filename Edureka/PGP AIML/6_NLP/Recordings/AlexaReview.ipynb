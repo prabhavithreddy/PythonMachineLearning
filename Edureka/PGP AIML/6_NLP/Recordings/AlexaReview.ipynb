{
 "cells": [
  {
   "cell_type": "code",
   "execution_count": 1,
   "id": "b730917b",
   "metadata": {},
   "outputs": [],
   "source": [
    "import pandas as pd\n",
    "import numpy as np\n",
    "import warnings\n",
    "warnings.filterwarnings('ignore')"
   ]
  },
  {
   "cell_type": "code",
   "execution_count": 2,
   "id": "eb517971",
   "metadata": {},
   "outputs": [
    {
     "data": {
      "text/html": [
       "<div>\n",
       "<style scoped>\n",
       "    .dataframe tbody tr th:only-of-type {\n",
       "        vertical-align: middle;\n",
       "    }\n",
       "\n",
       "    .dataframe tbody tr th {\n",
       "        vertical-align: top;\n",
       "    }\n",
       "\n",
       "    .dataframe thead th {\n",
       "        text-align: right;\n",
       "    }\n",
       "</style>\n",
       "<table border=\"1\" class=\"dataframe\">\n",
       "  <thead>\n",
       "    <tr style=\"text-align: right;\">\n",
       "      <th></th>\n",
       "      <th>Id</th>\n",
       "      <th>ProductId</th>\n",
       "      <th>UserId</th>\n",
       "      <th>ProfileName</th>\n",
       "      <th>HelpfulnessNumerator</th>\n",
       "      <th>HelpfulnessDenominator</th>\n",
       "      <th>Score</th>\n",
       "      <th>Time</th>\n",
       "      <th>Summary</th>\n",
       "      <th>Text</th>\n",
       "    </tr>\n",
       "  </thead>\n",
       "  <tbody>\n",
       "    <tr>\n",
       "      <th>0</th>\n",
       "      <td>1</td>\n",
       "      <td>B001E4KFG0</td>\n",
       "      <td>A3SGXH7AUHU8GW</td>\n",
       "      <td>delmartian</td>\n",
       "      <td>1</td>\n",
       "      <td>1</td>\n",
       "      <td>5</td>\n",
       "      <td>1303862400</td>\n",
       "      <td>Good Quality Dog Food</td>\n",
       "      <td>I have bought several of the Vitality canned d...</td>\n",
       "    </tr>\n",
       "    <tr>\n",
       "      <th>1</th>\n",
       "      <td>2</td>\n",
       "      <td>B00813GRG4</td>\n",
       "      <td>A1D87F6ZCVE5NK</td>\n",
       "      <td>dll pa</td>\n",
       "      <td>0</td>\n",
       "      <td>0</td>\n",
       "      <td>1</td>\n",
       "      <td>1346976000</td>\n",
       "      <td>Not as Advertised</td>\n",
       "      <td>Product arrived labeled as Jumbo Salted Peanut...</td>\n",
       "    </tr>\n",
       "    <tr>\n",
       "      <th>2</th>\n",
       "      <td>3</td>\n",
       "      <td>B000LQOCH0</td>\n",
       "      <td>ABXLMWJIXXAIN</td>\n",
       "      <td>Natalia Corres \"Natalia Corres\"</td>\n",
       "      <td>1</td>\n",
       "      <td>1</td>\n",
       "      <td>4</td>\n",
       "      <td>1219017600</td>\n",
       "      <td>\"Delight\" says it all</td>\n",
       "      <td>This is a confection that has been around a fe...</td>\n",
       "    </tr>\n",
       "    <tr>\n",
       "      <th>3</th>\n",
       "      <td>4</td>\n",
       "      <td>B000UA0QIQ</td>\n",
       "      <td>A395BORC6FGVXV</td>\n",
       "      <td>Karl</td>\n",
       "      <td>3</td>\n",
       "      <td>3</td>\n",
       "      <td>2</td>\n",
       "      <td>1307923200</td>\n",
       "      <td>Cough Medicine</td>\n",
       "      <td>If you are looking for the secret ingredient i...</td>\n",
       "    </tr>\n",
       "    <tr>\n",
       "      <th>4</th>\n",
       "      <td>5</td>\n",
       "      <td>B006K2ZZ7K</td>\n",
       "      <td>A1UQRSCLF8GW1T</td>\n",
       "      <td>Michael D. Bigham \"M. Wassir\"</td>\n",
       "      <td>0</td>\n",
       "      <td>0</td>\n",
       "      <td>5</td>\n",
       "      <td>1350777600</td>\n",
       "      <td>Great taffy</td>\n",
       "      <td>Great taffy at a great price.  There was a wid...</td>\n",
       "    </tr>\n",
       "  </tbody>\n",
       "</table>\n",
       "</div>"
      ],
      "text/plain": [
       "   Id   ProductId          UserId                      ProfileName  \\\n",
       "0   1  B001E4KFG0  A3SGXH7AUHU8GW                       delmartian   \n",
       "1   2  B00813GRG4  A1D87F6ZCVE5NK                           dll pa   \n",
       "2   3  B000LQOCH0   ABXLMWJIXXAIN  Natalia Corres \"Natalia Corres\"   \n",
       "3   4  B000UA0QIQ  A395BORC6FGVXV                             Karl   \n",
       "4   5  B006K2ZZ7K  A1UQRSCLF8GW1T    Michael D. Bigham \"M. Wassir\"   \n",
       "\n",
       "   HelpfulnessNumerator  HelpfulnessDenominator  Score        Time  \\\n",
       "0                     1                       1      5  1303862400   \n",
       "1                     0                       0      1  1346976000   \n",
       "2                     1                       1      4  1219017600   \n",
       "3                     3                       3      2  1307923200   \n",
       "4                     0                       0      5  1350777600   \n",
       "\n",
       "                 Summary                                               Text  \n",
       "0  Good Quality Dog Food  I have bought several of the Vitality canned d...  \n",
       "1      Not as Advertised  Product arrived labeled as Jumbo Salted Peanut...  \n",
       "2  \"Delight\" says it all  This is a confection that has been around a fe...  \n",
       "3         Cough Medicine  If you are looking for the secret ingredient i...  \n",
       "4            Great taffy  Great taffy at a great price.  There was a wid...  "
      ]
     },
     "execution_count": 2,
     "metadata": {},
     "output_type": "execute_result"
    }
   ],
   "source": [
    "df = pd.read_csv('Reviews.csv')\n",
    "df.head()"
   ]
  },
  {
   "cell_type": "code",
   "execution_count": 3,
   "id": "6d6ee3b3",
   "metadata": {},
   "outputs": [
    {
     "data": {
      "text/plain": [
       "(568454, 10)"
      ]
     },
     "execution_count": 3,
     "metadata": {},
     "output_type": "execute_result"
    }
   ],
   "source": [
    "# Shape of the dataframe\n",
    "df.shape"
   ]
  },
  {
   "cell_type": "code",
   "execution_count": 5,
   "id": "4e2c3fdf",
   "metadata": {},
   "outputs": [
    {
     "data": {
      "text/plain": [
       "(1000, 10)"
      ]
     },
     "execution_count": 5,
     "metadata": {},
     "output_type": "execute_result"
    }
   ],
   "source": [
    "# Take sample of 1000\n",
    "\n",
    "sample_df = df.sample(1000)\n",
    "# Print shape of the sample\n",
    "sample_df.shape"
   ]
  },
  {
   "cell_type": "code",
   "execution_count": 6,
   "id": "714e14f8",
   "metadata": {},
   "outputs": [
    {
     "data": {
      "text/html": [
       "<div>\n",
       "<style scoped>\n",
       "    .dataframe tbody tr th:only-of-type {\n",
       "        vertical-align: middle;\n",
       "    }\n",
       "\n",
       "    .dataframe tbody tr th {\n",
       "        vertical-align: top;\n",
       "    }\n",
       "\n",
       "    .dataframe thead th {\n",
       "        text-align: right;\n",
       "    }\n",
       "</style>\n",
       "<table border=\"1\" class=\"dataframe\">\n",
       "  <thead>\n",
       "    <tr style=\"text-align: right;\">\n",
       "      <th></th>\n",
       "      <th>Id</th>\n",
       "      <th>ProductId</th>\n",
       "      <th>UserId</th>\n",
       "      <th>ProfileName</th>\n",
       "      <th>HelpfulnessNumerator</th>\n",
       "      <th>HelpfulnessDenominator</th>\n",
       "      <th>Score</th>\n",
       "      <th>Time</th>\n",
       "      <th>Summary</th>\n",
       "      <th>Text</th>\n",
       "    </tr>\n",
       "  </thead>\n",
       "  <tbody>\n",
       "    <tr>\n",
       "      <th>72121</th>\n",
       "      <td>72122</td>\n",
       "      <td>B000PEA4G6</td>\n",
       "      <td>A10A9H10YAQSA0</td>\n",
       "      <td>happytoshop</td>\n",
       "      <td>0</td>\n",
       "      <td>0</td>\n",
       "      <td>5</td>\n",
       "      <td>1350604800</td>\n",
       "      <td>Great marinade</td>\n",
       "      <td>I really liked this. I am on a low sodium diet...</td>\n",
       "    </tr>\n",
       "    <tr>\n",
       "      <th>78816</th>\n",
       "      <td>78817</td>\n",
       "      <td>B001E5DZSO</td>\n",
       "      <td>A13B5VIYPEC4IV</td>\n",
       "      <td>D. Schmidli</td>\n",
       "      <td>6</td>\n",
       "      <td>6</td>\n",
       "      <td>5</td>\n",
       "      <td>1219017600</td>\n",
       "      <td>Delicious!</td>\n",
       "      <td>I ordered this on a whim after reading the rev...</td>\n",
       "    </tr>\n",
       "    <tr>\n",
       "      <th>35492</th>\n",
       "      <td>35493</td>\n",
       "      <td>B0007OPW66</td>\n",
       "      <td>A2K41JWLWXORKW</td>\n",
       "      <td>LisaVK</td>\n",
       "      <td>0</td>\n",
       "      <td>0</td>\n",
       "      <td>2</td>\n",
       "      <td>1341619200</td>\n",
       "      <td>Don't Recommend</td>\n",
       "      <td>I do not recommend this.  Half of them were st...</td>\n",
       "    </tr>\n",
       "    <tr>\n",
       "      <th>62108</th>\n",
       "      <td>62109</td>\n",
       "      <td>B000CQG8K8</td>\n",
       "      <td>AE10DV4Y7NFUA</td>\n",
       "      <td>Meisha4</td>\n",
       "      <td>1</td>\n",
       "      <td>1</td>\n",
       "      <td>5</td>\n",
       "      <td>1318204800</td>\n",
       "      <td>Excellent!</td>\n",
       "      <td>This tea is very hearty...definitely \"double\" ...</td>\n",
       "    </tr>\n",
       "    <tr>\n",
       "      <th>139723</th>\n",
       "      <td>139724</td>\n",
       "      <td>B001BCXTGS</td>\n",
       "      <td>AAG0O8X2PYE6G</td>\n",
       "      <td>J. Aragon \"Feminist Educator\"</td>\n",
       "      <td>0</td>\n",
       "      <td>1</td>\n",
       "      <td>5</td>\n",
       "      <td>1227657600</td>\n",
       "      <td>The Cats' meow</td>\n",
       "      <td>We have two cats and they are picky with their...</td>\n",
       "    </tr>\n",
       "  </tbody>\n",
       "</table>\n",
       "</div>"
      ],
      "text/plain": [
       "            Id   ProductId          UserId                    ProfileName  \\\n",
       "72121    72122  B000PEA4G6  A10A9H10YAQSA0                    happytoshop   \n",
       "78816    78817  B001E5DZSO  A13B5VIYPEC4IV                    D. Schmidli   \n",
       "35492    35493  B0007OPW66  A2K41JWLWXORKW                         LisaVK   \n",
       "62108    62109  B000CQG8K8   AE10DV4Y7NFUA                        Meisha4   \n",
       "139723  139724  B001BCXTGS   AAG0O8X2PYE6G  J. Aragon \"Feminist Educator\"   \n",
       "\n",
       "        HelpfulnessNumerator  HelpfulnessDenominator  Score        Time  \\\n",
       "72121                      0                       0      5  1350604800   \n",
       "78816                      6                       6      5  1219017600   \n",
       "35492                      0                       0      2  1341619200   \n",
       "62108                      1                       1      5  1318204800   \n",
       "139723                     0                       1      5  1227657600   \n",
       "\n",
       "                Summary                                               Text  \n",
       "72121    Great marinade  I really liked this. I am on a low sodium diet...  \n",
       "78816        Delicious!  I ordered this on a whim after reading the rev...  \n",
       "35492   Don't Recommend  I do not recommend this.  Half of them were st...  \n",
       "62108        Excellent!  This tea is very hearty...definitely \"double\" ...  \n",
       "139723   The Cats' meow  We have two cats and they are picky with their...  "
      ]
     },
     "execution_count": 6,
     "metadata": {},
     "output_type": "execute_result"
    }
   ],
   "source": [
    "sample_df.head()"
   ]
  },
  {
   "cell_type": "code",
   "execution_count": 7,
   "id": "8a652dea",
   "metadata": {},
   "outputs": [
    {
     "data": {
      "text/plain": [
       "5    639\n",
       "4    143\n",
       "1     95\n",
       "2     64\n",
       "3     59\n",
       "Name: Score, dtype: int64"
      ]
     },
     "execution_count": 7,
     "metadata": {},
     "output_type": "execute_result"
    }
   ],
   "source": [
    "# Distribution of score\n",
    "sample_df['Score'].value_counts()"
   ]
  },
  {
   "cell_type": "code",
   "execution_count": 8,
   "id": "c4d81c86",
   "metadata": {},
   "outputs": [
    {
     "data": {
      "text/plain": [
       "5    363122\n",
       "4     80655\n",
       "1     52268\n",
       "3     42640\n",
       "2     29769\n",
       "Name: Score, dtype: int64"
      ]
     },
     "execution_count": 8,
     "metadata": {},
     "output_type": "execute_result"
    }
   ],
   "source": [
    "# Distribution of score\n",
    "df['Score'].value_counts()"
   ]
  },
  {
   "cell_type": "code",
   "execution_count": 20,
   "id": "761dfb43",
   "metadata": {},
   "outputs": [
    {
     "data": {
      "text/plain": [
       "(1000, 10)"
      ]
     },
     "execution_count": 20,
     "metadata": {},
     "output_type": "execute_result"
    }
   ],
   "source": [
    "# Since the scores are not uniformly distributed, let us take 200 from each category\n",
    "\n",
    "sample_df = df.sample(df.shape[0]).groupby(['Score']).head(200)\n",
    "sample_df.shape"
   ]
  },
  {
   "cell_type": "code",
   "execution_count": 21,
   "id": "db42dc98",
   "metadata": {
    "scrolled": true
   },
   "outputs": [
    {
     "data": {
      "text/html": [
       "<div>\n",
       "<style scoped>\n",
       "    .dataframe tbody tr th:only-of-type {\n",
       "        vertical-align: middle;\n",
       "    }\n",
       "\n",
       "    .dataframe tbody tr th {\n",
       "        vertical-align: top;\n",
       "    }\n",
       "\n",
       "    .dataframe thead th {\n",
       "        text-align: right;\n",
       "    }\n",
       "</style>\n",
       "<table border=\"1\" class=\"dataframe\">\n",
       "  <thead>\n",
       "    <tr style=\"text-align: right;\">\n",
       "      <th></th>\n",
       "      <th>Id</th>\n",
       "      <th>ProductId</th>\n",
       "      <th>UserId</th>\n",
       "      <th>ProfileName</th>\n",
       "      <th>HelpfulnessNumerator</th>\n",
       "      <th>HelpfulnessDenominator</th>\n",
       "      <th>Score</th>\n",
       "      <th>Time</th>\n",
       "      <th>Summary</th>\n",
       "      <th>Text</th>\n",
       "    </tr>\n",
       "  </thead>\n",
       "  <tbody>\n",
       "    <tr>\n",
       "      <th>40103</th>\n",
       "      <td>40104</td>\n",
       "      <td>B001E50X66</td>\n",
       "      <td>A3IHTXQYL7SJ6Z</td>\n",
       "      <td>lynne Perrin</td>\n",
       "      <td>0</td>\n",
       "      <td>0</td>\n",
       "      <td>5</td>\n",
       "      <td>1341705600</td>\n",
       "      <td>mmmmmm mmmmmm good</td>\n",
       "      <td>I like this product very much. I use them ever...</td>\n",
       "    </tr>\n",
       "    <tr>\n",
       "      <th>381058</th>\n",
       "      <td>381059</td>\n",
       "      <td>B001EPQMMK</td>\n",
       "      <td>A13T0V3LHOTHDL</td>\n",
       "      <td>E. Treants \"tree\"</td>\n",
       "      <td>0</td>\n",
       "      <td>0</td>\n",
       "      <td>5</td>\n",
       "      <td>1294272000</td>\n",
       "      <td>OMG GOOD! Tastes as good as the old Wally Worl...</td>\n",
       "      <td>Actually, I do not like this, BUT my wife thin...</td>\n",
       "    </tr>\n",
       "    <tr>\n",
       "      <th>560667</th>\n",
       "      <td>560668</td>\n",
       "      <td>B000F7V872</td>\n",
       "      <td>APHAQ7GNQWDQW</td>\n",
       "      <td>J. Mattison</td>\n",
       "      <td>4</td>\n",
       "      <td>4</td>\n",
       "      <td>5</td>\n",
       "      <td>1233619200</td>\n",
       "      <td>Fabulous!</td>\n",
       "      <td>My favorite coffee creamer years ago was a Kah...</td>\n",
       "    </tr>\n",
       "    <tr>\n",
       "      <th>399479</th>\n",
       "      <td>399480</td>\n",
       "      <td>B003ZA46X4</td>\n",
       "      <td>A1X9U49ZF0RNVB</td>\n",
       "      <td>Kimmer</td>\n",
       "      <td>1</td>\n",
       "      <td>1</td>\n",
       "      <td>5</td>\n",
       "      <td>1309996800</td>\n",
       "      <td>So delicious!</td>\n",
       "      <td>I really had no idea what to expect with Dark ...</td>\n",
       "    </tr>\n",
       "    <tr>\n",
       "      <th>525245</th>\n",
       "      <td>525246</td>\n",
       "      <td>B000F5DRVO</td>\n",
       "      <td>AD309KSBRGWB</td>\n",
       "      <td>Pod</td>\n",
       "      <td>0</td>\n",
       "      <td>0</td>\n",
       "      <td>5</td>\n",
       "      <td>1341100800</td>\n",
       "      <td>Great!</td>\n",
       "      <td>This tastes great inside of rice balls. I love...</td>\n",
       "    </tr>\n",
       "  </tbody>\n",
       "</table>\n",
       "</div>"
      ],
      "text/plain": [
       "            Id   ProductId          UserId        ProfileName  \\\n",
       "40103    40104  B001E50X66  A3IHTXQYL7SJ6Z       lynne Perrin   \n",
       "381058  381059  B001EPQMMK  A13T0V3LHOTHDL  E. Treants \"tree\"   \n",
       "560667  560668  B000F7V872   APHAQ7GNQWDQW        J. Mattison   \n",
       "399479  399480  B003ZA46X4  A1X9U49ZF0RNVB             Kimmer   \n",
       "525245  525246  B000F5DRVO    AD309KSBRGWB                Pod   \n",
       "\n",
       "        HelpfulnessNumerator  HelpfulnessDenominator  Score        Time  \\\n",
       "40103                      0                       0      5  1341705600   \n",
       "381058                     0                       0      5  1294272000   \n",
       "560667                     4                       4      5  1233619200   \n",
       "399479                     1                       1      5  1309996800   \n",
       "525245                     0                       0      5  1341100800   \n",
       "\n",
       "                                                  Summary  \\\n",
       "40103                                  mmmmmm mmmmmm good   \n",
       "381058  OMG GOOD! Tastes as good as the old Wally Worl...   \n",
       "560667                                          Fabulous!   \n",
       "399479                                      So delicious!   \n",
       "525245                                             Great!   \n",
       "\n",
       "                                                     Text  \n",
       "40103   I like this product very much. I use them ever...  \n",
       "381058  Actually, I do not like this, BUT my wife thin...  \n",
       "560667  My favorite coffee creamer years ago was a Kah...  \n",
       "399479  I really had no idea what to expect with Dark ...  \n",
       "525245  This tastes great inside of rice balls. I love...  "
      ]
     },
     "execution_count": 21,
     "metadata": {},
     "output_type": "execute_result"
    }
   ],
   "source": [
    "sample_df.head()"
   ]
  },
  {
   "cell_type": "code",
   "execution_count": 98,
   "id": "4a3748a9",
   "metadata": {},
   "outputs": [
    {
     "data": {
      "text/html": [
       "<div>\n",
       "<style scoped>\n",
       "    .dataframe tbody tr th:only-of-type {\n",
       "        vertical-align: middle;\n",
       "    }\n",
       "\n",
       "    .dataframe tbody tr th {\n",
       "        vertical-align: top;\n",
       "    }\n",
       "\n",
       "    .dataframe thead th {\n",
       "        text-align: right;\n",
       "    }\n",
       "</style>\n",
       "<table border=\"1\" class=\"dataframe\">\n",
       "  <thead>\n",
       "    <tr style=\"text-align: right;\">\n",
       "      <th></th>\n",
       "      <th>Text</th>\n",
       "      <th>Score</th>\n",
       "    </tr>\n",
       "  </thead>\n",
       "  <tbody>\n",
       "    <tr>\n",
       "      <th>40103</th>\n",
       "      <td>I like this product very much. I use them ever...</td>\n",
       "      <td>5</td>\n",
       "    </tr>\n",
       "    <tr>\n",
       "      <th>381058</th>\n",
       "      <td>Actually, I do not like this, BUT my wife thin...</td>\n",
       "      <td>5</td>\n",
       "    </tr>\n",
       "    <tr>\n",
       "      <th>560667</th>\n",
       "      <td>My favorite coffee creamer years ago was a Kah...</td>\n",
       "      <td>5</td>\n",
       "    </tr>\n",
       "    <tr>\n",
       "      <th>399479</th>\n",
       "      <td>I really had no idea what to expect with Dark ...</td>\n",
       "      <td>5</td>\n",
       "    </tr>\n",
       "    <tr>\n",
       "      <th>525245</th>\n",
       "      <td>This tastes great inside of rice balls. I love...</td>\n",
       "      <td>5</td>\n",
       "    </tr>\n",
       "  </tbody>\n",
       "</table>\n",
       "</div>"
      ],
      "text/plain": [
       "                                                     Text  Score\n",
       "40103   I like this product very much. I use them ever...      5\n",
       "381058  Actually, I do not like this, BUT my wife thin...      5\n",
       "560667  My favorite coffee creamer years ago was a Kah...      5\n",
       "399479  I really had no idea what to expect with Dark ...      5\n",
       "525245  This tastes great inside of rice balls. I love...      5"
      ]
     },
     "execution_count": 98,
     "metadata": {},
     "output_type": "execute_result"
    }
   ],
   "source": [
    "review_df = sample_df[['Text', 'Score']]\n",
    "review_df.head()"
   ]
  },
  {
   "cell_type": "code",
   "execution_count": 99,
   "id": "824d2a8b",
   "metadata": {},
   "outputs": [
    {
     "data": {
      "text/plain": [
       "1    200\n",
       "2    200\n",
       "3    200\n",
       "4    200\n",
       "5    200\n",
       "Name: Score, dtype: int64"
      ]
     },
     "execution_count": 99,
     "metadata": {},
     "output_type": "execute_result"
    }
   ],
   "source": [
    "review_df.Score.value_counts()"
   ]
  },
  {
   "cell_type": "code",
   "execution_count": 100,
   "id": "494fd970",
   "metadata": {},
   "outputs": [],
   "source": [
    "review_df['Score'] = review_df['Score'].apply(lambda s: 1 if  s>3 else 0)"
   ]
  },
  {
   "cell_type": "code",
   "execution_count": 101,
   "id": "aa83abea",
   "metadata": {},
   "outputs": [
    {
     "data": {
      "text/plain": [
       "0    600\n",
       "1    400\n",
       "Name: Score, dtype: int64"
      ]
     },
     "execution_count": 101,
     "metadata": {},
     "output_type": "execute_result"
    }
   ],
   "source": [
    "review_df['Score'].value_counts()"
   ]
  },
  {
   "cell_type": "code",
   "execution_count": 102,
   "id": "dc828fbb",
   "metadata": {},
   "outputs": [
    {
     "name": "stderr",
     "output_type": "stream",
     "text": [
      "[nltk_data] Downloading package wordnet to\n",
      "[nltk_data]     C:\\Users\\vlekkala\\AppData\\Roaming\\nltk_data...\n",
      "[nltk_data]   Package wordnet is already up-to-date!\n"
     ]
    }
   ],
   "source": [
    "# Importing the required libraries\n",
    "import nltk\n",
    "from nltk.tokenize import sent_tokenize, word_tokenize\n",
    "from nltk.corpus import stopwords\n",
    "from nltk.stem import WordNetLemmatizer\n",
    "\n",
    "nltk.download('wordnet')\n",
    "import string\n",
    "\n",
    "lemmatizer = WordNetLemmatizer()\n",
    "\n",
    "english_stop_words = stopwords.words('english')"
   ]
  },
  {
   "cell_type": "code",
   "execution_count": 103,
   "id": "b6f958ca",
   "metadata": {},
   "outputs": [],
   "source": [
    "def clean_text(sentence):\n",
    "    sentence = sentence.lower()\n",
    "    words = word_tokenize(sentence)\n",
    "    lemmatized = [lemmatizer.lemmatize(word) \n",
    "                  for word in words \n",
    "                  if word not in english_stop_words and word not in string.punctuation and word.isalpha()]\n",
    "    return \" \".join(lemmatized)"
   ]
  },
  {
   "cell_type": "code",
   "execution_count": 115,
   "id": "da7fd424",
   "metadata": {},
   "outputs": [],
   "source": [
    "import spacy\n",
    "nlp = spacy.load('en_core_web_sm')"
   ]
  },
  {
   "cell_type": "code",
   "execution_count": 140,
   "id": "2bede378",
   "metadata": {},
   "outputs": [],
   "source": [
    "\n",
    "def clean_text_spacy(sentence):\n",
    "    corpus = []\n",
    "    \n",
    "    doc = nlp(sentence.lower())\n",
    "    for token in doc:\n",
    "        if token.pos_ in ['ADV','ADJ', 'VERB'] and (not token.is_punct) and (token.text not in english_stop_words):\n",
    "            corpus.append(token.lemma_)\n",
    "\n",
    "    return \" \".join(corpus)"
   ]
  },
  {
   "cell_type": "code",
   "execution_count": 141,
   "id": "7b18c210",
   "metadata": {},
   "outputs": [
    {
     "name": "stdout",
     "output_type": "stream",
     "text": [
      "greatful product\n",
      "greatful\n"
     ]
    }
   ],
   "source": [
    "print(clean_text('I am very greatful to the product 10'))\n",
    "print(clean_text_spacy('I am very greatful to the product 10'))"
   ]
  },
  {
   "cell_type": "code",
   "execution_count": 142,
   "id": "58159055",
   "metadata": {},
   "outputs": [
    {
     "data": {
      "text/plain": [
       "40103           like much use tasty consistent reorder many\n",
       "381058    actually like think good ever get wally long a...\n",
       "560667    favorite ago flavor disappear never return thr...\n",
       "399479    really expect dark figure mean go wrong truly ...\n",
       "525245    taste great inside love individual use last ke...\n",
       "Name: Text, dtype: object"
      ]
     },
     "execution_count": 142,
     "metadata": {},
     "output_type": "execute_result"
    }
   ],
   "source": [
    "review_df.head()['Text'].apply(clean_text_spacy).head()"
   ]
  },
  {
   "cell_type": "code",
   "execution_count": 143,
   "id": "bbcbf49a",
   "metadata": {},
   "outputs": [],
   "source": [
    "from sklearn.model_selection import train_test_split\n",
    "from sklearn.metrics import classification_report\n",
    "\n",
    "\n",
    "from sklearn.feature_extraction.text import TfidfVectorizer\n",
    "from sklearn.ensemble import RandomForestClassifier\n",
    "from sklearn.svm import LinearSVC\n",
    "from sklearn.pipeline import Pipeline\n",
    "\n",
    "tfidf = TfidfVectorizer(tokenizer=clean_text_spacy)\n",
    "model = RandomForestClassifier()\n",
    "\n",
    "clf = Pipeline([('tfidf', tfidf),('clf', model)])\n",
    "\n",
    "X = review_df['Text']\n",
    "y = review_df['Score']\n",
    "\n",
    "X_train, X_test, y_train, y_test = train_test_split(X, y,random_state=42, test_size=0.2)\n",
    "\n",
    "clf.fit(X_train, y_train)\n",
    "\n",
    "y_pred = clf.predict(X_test)"
   ]
  },
  {
   "cell_type": "code",
   "execution_count": 144,
   "id": "c5be4c3e",
   "metadata": {},
   "outputs": [
    {
     "name": "stdout",
     "output_type": "stream",
     "text": [
      "              precision    recall  f1-score   support\n",
      "\n",
      "           0       0.62      0.91      0.74       117\n",
      "           1       0.63      0.23      0.34        83\n",
      "\n",
      "    accuracy                           0.62       200\n",
      "   macro avg       0.63      0.57      0.54       200\n",
      "weighted avg       0.63      0.62      0.57       200\n",
      "\n"
     ]
    }
   ],
   "source": [
    "print(classification_report(y_test, y_pred))"
   ]
  },
  {
   "cell_type": "code",
   "execution_count": 148,
   "id": "96d7f7a0",
   "metadata": {},
   "outputs": [
    {
     "data": {
      "text/plain": [
       "array([1], dtype=int64)"
      ]
     },
     "execution_count": 148,
     "metadata": {},
     "output_type": "execute_result"
    }
   ],
   "source": [
    "clf.predict(['This is a very good product'])"
   ]
  },
  {
   "cell_type": "code",
   "execution_count": 111,
   "id": "d6112a91",
   "metadata": {},
   "outputs": [
    {
     "name": "stdout",
     "output_type": "stream",
     "text": [
      "This DET\n",
      "is AUX\n",
      "a DET\n",
      "good ADJ\n",
      "product NOUN\n"
     ]
    }
   ],
   "source": [
    "import spacy\n",
    "nlp = spacy.load('en_core_web_sm')"
   ]
  },
  {
   "cell_type": "code",
   "execution_count": 121,
   "id": "8606b76f",
   "metadata": {},
   "outputs": [
    {
     "name": "stdout",
     "output_type": "stream",
     "text": [
      "I PRON\n",
      "am AUX\n",
      "very ADV\n",
      "greatful ADJ\n",
      "to ADP\n",
      "the DET\n",
      "product NOUN\n",
      "10 NUM\n"
     ]
    }
   ],
   "source": [
    "doc = nlp(\"I am very greatful to the product 10\")\n",
    "for token in doc:\n",
    "    print(token, token.pos_)"
   ]
  },
  {
   "cell_type": "code",
   "execution_count": 113,
   "id": "fd251adf",
   "metadata": {},
   "outputs": [
    {
     "data": {
      "text/plain": [
       "'I like this product very much. I use them every other day. They are tasty, the product is consistent. I will reorder many times.'"
      ]
     },
     "execution_count": 113,
     "metadata": {},
     "output_type": "execute_result"
    }
   ],
   "source": [
    "review_df.iloc[0,0]"
   ]
  },
  {
   "cell_type": "code",
   "execution_count": null,
   "id": "90c719c4",
   "metadata": {},
   "outputs": [],
   "source": [
    "from sklearn.feature_extraction.text import "
   ]
  }
 ],
 "metadata": {
  "kernelspec": {
   "display_name": "Python 3",
   "language": "python",
   "name": "python3"
  },
  "language_info": {
   "codemirror_mode": {
    "name": "ipython",
    "version": 3
   },
   "file_extension": ".py",
   "mimetype": "text/x-python",
   "name": "python",
   "nbconvert_exporter": "python",
   "pygments_lexer": "ipython3",
   "version": "3.8.8"
  }
 },
 "nbformat": 4,
 "nbformat_minor": 5
}
