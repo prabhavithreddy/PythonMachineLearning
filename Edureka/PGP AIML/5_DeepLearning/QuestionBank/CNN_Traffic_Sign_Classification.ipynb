{
 "cells": [
  {
   "cell_type": "code",
   "execution_count": 3,
   "id": "c23d562b",
   "metadata": {},
   "outputs": [],
   "source": [
    "import numpy as np\n",
    "import pandas as pd\n",
    "import matplotlib.pyplot as plt\n",
    "import seaborn as sns\n",
    "import warnings\n",
    "warnings.filterwarnings('ignore')\n",
    "\n",
    "import tensorflow as tf\n",
    "from tensorflow import keras\n",
    "from tensorflow.keras import layers, datasets"
   ]
  },
  {
   "cell_type": "code",
   "execution_count": 4,
   "id": "19c0b631",
   "metadata": {},
   "outputs": [
    {
     "data": {
      "text/html": [
       "<div>\n",
       "<style scoped>\n",
       "    .dataframe tbody tr th:only-of-type {\n",
       "        vertical-align: middle;\n",
       "    }\n",
       "\n",
       "    .dataframe tbody tr th {\n",
       "        vertical-align: top;\n",
       "    }\n",
       "\n",
       "    .dataframe thead th {\n",
       "        text-align: right;\n",
       "    }\n",
       "</style>\n",
       "<table border=\"1\" class=\"dataframe\">\n",
       "  <thead>\n",
       "    <tr style=\"text-align: right;\">\n",
       "      <th></th>\n",
       "      <th>Path</th>\n",
       "      <th>ClassId</th>\n",
       "      <th>ShapeId</th>\n",
       "      <th>ColorId</th>\n",
       "      <th>SignId</th>\n",
       "    </tr>\n",
       "  </thead>\n",
       "  <tbody>\n",
       "    <tr>\n",
       "      <th>0</th>\n",
       "      <td>Meta/27.png</td>\n",
       "      <td>27</td>\n",
       "      <td>0</td>\n",
       "      <td>0</td>\n",
       "      <td>1.32</td>\n",
       "    </tr>\n",
       "    <tr>\n",
       "      <th>1</th>\n",
       "      <td>Meta/0.png</td>\n",
       "      <td>0</td>\n",
       "      <td>1</td>\n",
       "      <td>0</td>\n",
       "      <td>3.29</td>\n",
       "    </tr>\n",
       "    <tr>\n",
       "      <th>2</th>\n",
       "      <td>Meta/1.png</td>\n",
       "      <td>1</td>\n",
       "      <td>1</td>\n",
       "      <td>0</td>\n",
       "      <td>3.29</td>\n",
       "    </tr>\n",
       "    <tr>\n",
       "      <th>3</th>\n",
       "      <td>Meta/10.png</td>\n",
       "      <td>10</td>\n",
       "      <td>1</td>\n",
       "      <td>0</td>\n",
       "      <td>3.27</td>\n",
       "    </tr>\n",
       "    <tr>\n",
       "      <th>4</th>\n",
       "      <td>Meta/11.png</td>\n",
       "      <td>11</td>\n",
       "      <td>0</td>\n",
       "      <td>0</td>\n",
       "      <td>1.22</td>\n",
       "    </tr>\n",
       "  </tbody>\n",
       "</table>\n",
       "</div>"
      ],
      "text/plain": [
       "          Path  ClassId  ShapeId  ColorId SignId\n",
       "0  Meta/27.png       27        0        0   1.32\n",
       "1   Meta/0.png        0        1        0   3.29\n",
       "2   Meta/1.png        1        1        0   3.29\n",
       "3  Meta/10.png       10        1        0   3.27\n",
       "4  Meta/11.png       11        0        0   1.22"
      ]
     },
     "execution_count": 4,
     "metadata": {},
     "output_type": "execute_result"
    }
   ],
   "source": [
    "meta_df = pd.read_csv('archive/Meta.csv')\n",
    "meta_df.head()"
   ]
  },
  {
   "cell_type": "code",
   "execution_count": 5,
   "id": "fc71dc1a",
   "metadata": {},
   "outputs": [
    {
     "data": {
      "text/html": [
       "<div>\n",
       "<style scoped>\n",
       "    .dataframe tbody tr th:only-of-type {\n",
       "        vertical-align: middle;\n",
       "    }\n",
       "\n",
       "    .dataframe tbody tr th {\n",
       "        vertical-align: top;\n",
       "    }\n",
       "\n",
       "    .dataframe thead th {\n",
       "        text-align: right;\n",
       "    }\n",
       "</style>\n",
       "<table border=\"1\" class=\"dataframe\">\n",
       "  <thead>\n",
       "    <tr style=\"text-align: right;\">\n",
       "      <th></th>\n",
       "      <th>Width</th>\n",
       "      <th>Height</th>\n",
       "      <th>Roi.X1</th>\n",
       "      <th>Roi.Y1</th>\n",
       "      <th>Roi.X2</th>\n",
       "      <th>Roi.Y2</th>\n",
       "      <th>ClassId</th>\n",
       "      <th>Path</th>\n",
       "    </tr>\n",
       "  </thead>\n",
       "  <tbody>\n",
       "    <tr>\n",
       "      <th>0</th>\n",
       "      <td>27</td>\n",
       "      <td>26</td>\n",
       "      <td>5</td>\n",
       "      <td>5</td>\n",
       "      <td>22</td>\n",
       "      <td>20</td>\n",
       "      <td>20</td>\n",
       "      <td>Train/20/00020_00000_00000.png</td>\n",
       "    </tr>\n",
       "    <tr>\n",
       "      <th>1</th>\n",
       "      <td>28</td>\n",
       "      <td>27</td>\n",
       "      <td>5</td>\n",
       "      <td>6</td>\n",
       "      <td>23</td>\n",
       "      <td>22</td>\n",
       "      <td>20</td>\n",
       "      <td>Train/20/00020_00000_00001.png</td>\n",
       "    </tr>\n",
       "    <tr>\n",
       "      <th>2</th>\n",
       "      <td>29</td>\n",
       "      <td>26</td>\n",
       "      <td>6</td>\n",
       "      <td>5</td>\n",
       "      <td>24</td>\n",
       "      <td>21</td>\n",
       "      <td>20</td>\n",
       "      <td>Train/20/00020_00000_00002.png</td>\n",
       "    </tr>\n",
       "    <tr>\n",
       "      <th>3</th>\n",
       "      <td>28</td>\n",
       "      <td>27</td>\n",
       "      <td>5</td>\n",
       "      <td>6</td>\n",
       "      <td>23</td>\n",
       "      <td>22</td>\n",
       "      <td>20</td>\n",
       "      <td>Train/20/00020_00000_00003.png</td>\n",
       "    </tr>\n",
       "    <tr>\n",
       "      <th>4</th>\n",
       "      <td>28</td>\n",
       "      <td>26</td>\n",
       "      <td>5</td>\n",
       "      <td>5</td>\n",
       "      <td>23</td>\n",
       "      <td>21</td>\n",
       "      <td>20</td>\n",
       "      <td>Train/20/00020_00000_00004.png</td>\n",
       "    </tr>\n",
       "  </tbody>\n",
       "</table>\n",
       "</div>"
      ],
      "text/plain": [
       "   Width  Height  Roi.X1  Roi.Y1  Roi.X2  Roi.Y2  ClassId  \\\n",
       "0     27      26       5       5      22      20       20   \n",
       "1     28      27       5       6      23      22       20   \n",
       "2     29      26       6       5      24      21       20   \n",
       "3     28      27       5       6      23      22       20   \n",
       "4     28      26       5       5      23      21       20   \n",
       "\n",
       "                             Path  \n",
       "0  Train/20/00020_00000_00000.png  \n",
       "1  Train/20/00020_00000_00001.png  \n",
       "2  Train/20/00020_00000_00002.png  \n",
       "3  Train/20/00020_00000_00003.png  \n",
       "4  Train/20/00020_00000_00004.png  "
      ]
     },
     "execution_count": 5,
     "metadata": {},
     "output_type": "execute_result"
    }
   ],
   "source": [
    "train_df = pd.read_csv('archive/Train.csv')\n",
    "train_df.head()"
   ]
  },
  {
   "cell_type": "code",
   "execution_count": 15,
   "id": "90cc88e2",
   "metadata": {},
   "outputs": [
    {
     "data": {
      "image/png": "[encoded data removed]",
      "text/plain": [
       "<Figure size 432x288 with 1 Axes>"
      ]
     },
     "metadata": {
      "needs_background": "light"
     },
     "output_type": "display_data"
    }
   ],
   "source": [
    "sns.countplot(train_df.ClassId,orient='h')\n",
    "plt.show()"
   ]
  },
  {
   "cell_type": "code",
   "execution_count": 18,
   "id": "51718fad",
   "metadata": {},
   "outputs": [
    {
     "data": {
      "text/plain": [
       "'archive/Train/20/00020_00000_00000.png'"
      ]
     },
     "execution_count": 18,
     "metadata": {},
     "output_type": "execute_result"
    }
   ],
   "source": [
    "root = 'archive'\n",
    "path = train_df.iloc[0,-1]\n",
    "full_path = root+'/'+path\n",
    "full_path"
   ]
  },
  {
   "cell_type": "code",
   "execution_count": 20,
   "id": "3e21d399",
   "metadata": {},
   "outputs": [
    {
     "data": {
      "text/plain": [
       "b'\\x89PNG\\r\\n\\x1a\\n\\x00\\x00\\x00\\rIHDR\\x00\\x00\\x00\\x1b\\x00\\x00\\x00\\x1a\\x08\\x02\\x00\\x00\\x00\\xc9\\xea\\xb0\\xa7\\x00\\x00\\x05\\x19IDATH\\r\\x1d\\xc1YsT\\xd7\\x15\\x05\\xe0\\xb5\\xf6\\x19n\\xcf\\x1a\\x0c\\xd8$\\x8e\\x87\\x14\\x95\\x87<\\x18\\xb5\\x84%U\\xfe\\xff_H\\xe5)\\xe5\\x04l\\x8a\\x00\\x16R7=\\xdc{\\xcf\\xde+\\xc2\\xdf\\xc7\\x9f\\xaen\\r0\\xc4\\xb2\\xe4\\xe7\\xa7O\\xbb\\xb3\\xaf\\xff\\xf9\\xcb\\xbf2\\x87\\x92\\xe2\\xdb\\xef\\x9f\\xff\\xfa\\xee\\xf7\\xc3\\xb6\\x87\\xc7\\x08\\xe6Y\\xde\\xf6\\xdb\\x17\\x7f\\xff\\xe9\\xed/o8F\\x8c\\x0e\\x8fp\\x11\"\\x94\\x08\\x985\\x05_^\\xdd\"\\xc2\\x88BV\\xb3>b\\x94\\xe7d\\'\\xab2]\\xa6\\x0f\\x9f\\x0e1\\xd0\\x07\\x0f\\xa4\\x00a\\xe9\\xc7\\x17?\\xbc\\xfe\\xcf\\xbf\\x13K4\\xca\\x9b\\xb7f\\x14\\x15\\xd9\\x94\\'u\\xd7\\x8f\\xbc\\xb8\\xba\\ro$\\x8c\\x94\\x04\\x10\\x10\\x89\\xe9Lu\\xa6\\xc3\\x98b\\xcc1z4\\'\\xcc\\x98\\xa8p\\x08\\xa9\\xe4T\\xfb\\xe3\\x01\\xe1D$bRR\\x99O\\xee\\xf7G^^\\xddJ\\x01\\x08\\x10h\\n\\x10\\xca\\xc6l\\xbbg\\xdf\\x9e\\xbc~\\xb7\\x99\\xa4\\xc5$e\\x8f8\\xf6\\xcd\\x1d\\n\\x85\\xe8\\x12@PP\\x10*9M\\xbb\\x1c\\xf0\\x00y\\xb9\\xbe\\x16\\x1e\\tT\\x80\\x06RQ\\xc9\\xd3\\xb9\\x7f\\xfd\\xc3\\xf9\\xc7]\\xf3]\\x9b\\x00N\\xdb\\xec\\xb5\\xdbG\\x84?\\x02\\x10\\x00\\x0c\\nO\\xc9rJ\\xa4\\x12#\\xa7\\xca\\xf5\\xfa\\x1a0\\x1a\\x80 \\xa9\\x08\\x00\\xab\\xc5r>9.\\x97n\\xac\\x8e\\xfc\\xf4\\x9b\\xe7o\\xdf\\xbcy\\xfb\\xeb6\\xb0\\x12cl\\x03\\xc8\\x90` \\xa2\\x96bdJ\\x8c\\x18\\x8d\\x95\\xeb\\xf5\\xb5@\\x10\\x84\\x08\\x90\\xf4h\\x7f\\xfe\\xd37\\xd2f\\xa2\\x87g\\x8bs-\\xbfz\\xfdis\\xf7\\xdb\\xbb\\x89\\xca\\xa8\\xec\\xc0\\xe0\\xee `\\xa0jf-\\x85\\x14\\xfe\\xe0\\x01^\\xac\\xafI\\x82\\x84\\x04@\\x020.\\x97\\x93\\xd9L\\xe7\\xab\\xf4d\\xf5\\xf4\\xcd\\xfb\\x87\\xff\\xbe\\xbb\\x9b\\xe6\\xe9\\xbcX\\xf3\\xc1\\x83\\xc7\\x16}\\x93\\x90\\xc9\\x98v\\xb9\\xab\\xd9[\\x1f\\xae\\x08D\\x88\\x17\\x97\\xd7\\x00IH!\\x90\\xa0\\xd4\\x00\\x17F\\xe3Xr\\x97sMyZs\\x97\\xc9\\xedfc\\xe4 9-\\xe7jI5\\xd3\\xc7\\x11\\x11\\xf0xTr\\xe5\\xfa\\xeaF\") \"D\\x98\\x19\"\\x1a\\xcd2\\xad\\x18RbJ\\xb5\\x9b.`\\xf9\\xb0\\xef\\x8f\\xfb\\xad\\xa8\\xda\\xd5x\\xa4\\xb1\\xab6\\x0cN\\x98\\x11\\xc9\\x98,\\xf3\\xe5\\xe55@RFD\\x84\"\\x08\\x08\\xa0\\xe5\\n+j\\x80/\\x16\\'uq2\\x80\\x06\\xeew\\xf7\\x87\\xdd\\xa6\\xa4d9\\x0b\\x02\\x15!\\x0f\\x01 Ps\\xe1\\xe5\\xab\\xdb\\x90\\x00\\x11\\x02$\\x05\\xc0\\x08\\x90\\xb9 Wz7\\xeb&\\xf3\\xe5n\\xdf\\x97Z\\xda8N:\\xeev\\x9fZ\\x8b\\\\\\xea|>\\xdf\\xef\\xf7\\x92\\x9a\\xb7\\xe6\\x91,eK\\\\_\\xdd\\x08\\x10@@\\xe1\\xa1\\x80\\x91RNy\\x92K\\x86\\xba\\xe5\\xe2~\\xdf\\x0f\\xfb\\xbe\\x90\\xc9R\\xc9\\xb2\\xc2\\x16\\xa1p\\xfb\\x829e\\xcb\\xf98\\x8c>\\xb6h\\xc1\\x8b\\xcb\\x1b\\x90f\\xa6\\x10\\x14\\x01\\x89\\xaa\\x86b,\\x89%W\\xd6\\xee\\xc3\\xa7\\xcd|\\xbaX\\xcc\\x17\\xfdq\\x98\\xcf\\'\\xc3p\\xf8\\xbc\\xbdW\\xb4\\xd9\\xa4sD\\xc0$\\x02l\\xcd\\xc3\\xc1\\x97\\x977$\\x01\\x19\\x01A\\xb4\\x16>M\\xa9\\xc8C\\xb1:9u\\xa6\\xbb\\x87\\xcd\\xd9\\xf9\\x13\\x1a\\xcd(\\xa8\\x10\\x87\\xed\\xc3~\\xfb0\\xad\\x1dj\\xb7o\\xa3|4\\x1a-5\\x07/.o\\xf0E\\x98\\x81L\\x11\\x0c\\xa1\\xd0\\n5\\x9dN\\xe6\\xb3\\xc5\\xe6\\xd0o\\x0f\\xfb\\xf9\\xecQ\\x05\\x1c \\x05C|\\xden\\xfa\\xc3 \\xabH\\x91S\\xd4\\\\\\xda\\xd8\\xc2\\xc1\\x8b\\xf55\\x1eQf\\x0c\\x01B\\xb2Da>\\x9d,f\\x93\\xe1\\xd8\\xa3v#d@\\xa2H\\xb4qL)K!\\xa9?\\xf6\\xc7~\\xb0\\x84\\x9ai\\x92)2\\x13/.\\xaf\\x01\\x02\\x02d\\xa4\\x91fI!C\\x18\\x91\\x88&5\\x05\\x00\\x82\\x10\\x0c\\x12  B\\x92\\xd7\\x92k\\xc9%\\xa7\\x92\\r\\xf2\\x92\\x12/\\xaen\\x00H\\xa2d\\xa4Y\"d$\\xa1dF\\x05\\xc8\\x90\\x04Ha\\x00\\x15LI\\x0c\\x9a\\x80bJ\\x93\\x82\\\\`\\x96R*\\xc7\\xe3\\x9e\\xebW\\xb7PH \\x8c\\x00i\\xa4\\x80\\x00h\\xb4dtEH\\x10\\x80\\x00D\\xa2\\x96\\\\\\xb3\\xe7\\xaa\\xc0b8\\xa6\\'g]h\\xe7\\xca\\xde\\x87\\xf7{\\xae_\\xddB\\xa1\\x88\\x9c\\x8b\\xbb\\x03\\x10@\\x02 i\\x11\\xd1\"R\\x99M\\xea<\\xbc\\x8d\\xde,\\x0f\\xf3\\xe2\\x05\\xc7\\xc5\\xe9t\\xd7\\xe7\\xd6\\xe7\\xc5\\xccRi\\xc71\\xd2\\x18\\xb9\\r\\xbc\\xfc\\xf9\\x1f\\xe1#%\\x01\"\\x08\\x18-\\x04\\x01F\\x8bP\\x08\\xe0lZO\\xbbZ\"B\\xf1\\xf1d\\xe5\\xfd\\xf1\\xfe\\xd9\\xd3\\xe5~\\x87TN\\xfba[r[\\xcc\\x17~8\\xeax\\xe4\\xc5\\xab[\\x84\\x1b$\\xd2\\xc1\\x04Pp)\\x00#!H \\xeb_\\xbf\\x7f\\xf1\\xf1\\x7fo\\xfe\\xf6\\xe2;\\x1f\\x1e\\x0e\\xc3\\xc3\\xe0\\xc7\\xf3E\\xad(\\x9e&\\x1f\\x1e\\xee5\\x0e\\xe6n\\xeeE\\xe4\\xcb\\xab\\x1b\\x83\\x12!@ DH!\\x85\\x82\\x7f\\x88\\x90Y\\xca\\x96\\x92\\xed\\xff\\xf2\\xdd\\xf9\\xd9\\xd9\\xd9\\xfb\\x0f\\xef\\x97\\xab\\xf9I\\xb5\\xb3\\xae\\xbb\\xfb\\xbc\\xfd\\xb4\\x1b\\xd5Ho\\x96xw\\xb7\\xe5\\xfa\\xe7\\xdbl\\t\\xe1\\x11.\\x01 \\xf8\\xc58\\x8e)\\xa5\\x90\\x00\\x90\\xcc)\\x93\\xfd\\xd9\\xd3\\xc5\\xe2\\xf4d\\xf7y\\xbbXt\\xd3q\\xf7U\\xe9T\\'\\xbdd\\x92\\xa9\\x1d\\xd5~\\xfb\\xb8\\xe3\\xd5\\xab\\x9b\\x94\\xaa\\xe4\\xde\\xc6RJs\\x07\\x19\\x11\\xad5\\xa3\\x91\\x04@\\xc2\\xbe\\xf0\\xd5\\xb2[\\xad\\x96\\xad\\x8d\\xb3yJ:$\\xe5\\xa6\\xdc\\xfb\\xf1\\xecdzv2\\xbb\\xdb\\xfc~\\xb7\\xe5\\xff\\x01\\xa1\\xcdKyf3\\xb9\\x99\\x00\\x00\\x00\\x00IEND\\xaeB`\\x82'"
      ]
     },
     "execution_count": 20,
     "metadata": {},
     "output_type": "execute_result"
    }
   ],
   "source": [
    "a = None\n",
    "with open(full_path, 'rb') as f:\n",
    "    a = f.read()\n",
    "a"
   ]
  },
  {
   "cell_type": "code",
   "execution_count": null,
   "id": "f897b9df",
   "metadata": {},
   "outputs": [],
   "source": [
    "f."
   ]
  }
 ],
 "metadata": {
  "kernelspec": {
   "display_name": "Python 3",
   "language": "python",
   "name": "python3"
  },
  "language_info": {
   "codemirror_mode": {
    "name": "ipython",
    "version": 3
   },
   "file_extension": ".py",
   "mimetype": "text/x-python",
   "name": "python",
   "nbconvert_exporter": "python",
   "pygments_lexer": "ipython3",
   "version": "3.8.8"
  }
 },
 "nbformat": 4,
 "nbformat_minor": 5
}
